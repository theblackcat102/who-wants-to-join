{
 "cells": [
  {
   "cell_type": "code",
   "execution_count": 48,
   "metadata": {},
   "outputs": [],
   "source": [
    "import networkx as nx\n",
    "import numpy as np\n",
    "import matplotlib.pyplot as plt\n",
    "import seaborn as sns\n",
    "from collections import defaultdict\n",
    "from tqdm import tqdm\n",
    "import random\n",
    "import pickle\n",
    "import torch\n",
    "from torch.autograd import Variable, Function"
   ]
  },
  {
   "cell_type": "code",
   "execution_count": 2,
   "metadata": {},
   "outputs": [
    {
     "name": "stderr",
     "output_type": "stream",
     "text": [
      "100%|██████████| 925872/925872 [00:00<00:00, 1004863.55it/s]\n",
      "100%|██████████| 75149/75149 [00:00<00:00, 79232.54it/s]\n"
     ]
    }
   ],
   "source": [
    "\n",
    "dataset = 'amazon'\n",
    "# load group mappings\n",
    "\n",
    "member2group = defaultdict(list)\n",
    "group2member = defaultdict(list)\n",
    "edges = defaultdict(int)\n",
    "\n",
    "# create member edge\n",
    "with open('{}/com-{}.ungraph.txt'.format(dataset, dataset), 'r') as f:\n",
    "    for line in tqdm(f.readlines()):\n",
    "        edge = [ str(int(m)) for m in line.split('\\t')]\n",
    "        edge = '_'.join(edge)\n",
    "        edges[edge] = 1\n",
    "\n",
    "# load directed graph\n",
    "with open('{}/com-{}.all.cmty.txt'.format(dataset, dataset), 'r') as f: \n",
    "    for line in tqdm(f.readlines()):\n",
    "        members = line.split('\\t')\n",
    "        members = [ int(m) for m in members]\n",
    "        group_id = len(group2member)\n",
    "        group2member[group_id] = members\n",
    "        for m in members:\n",
    "            member2group[m].append(group_id)\n"
   ]
  },
  {
   "cell_type": "code",
   "execution_count": 3,
   "metadata": {},
   "outputs": [],
   "source": [
    "G = nx.Graph()\n",
    "for edge in edges:\n",
    "    src, dst = edge.split('_')\n",
    "    src, dst = int(src), int(dst)\n",
    "    \n",
    "    if not G.has_node(src):\n",
    "        G.add_node(src, group=member2group[src])\n",
    "\n",
    "    if not G.has_node(dst):\n",
    "        G.add_node(dst, group=member2group[dst])\n",
    "    \n",
    "    if G.has_node(src) and G.has_node(dst):\n",
    "        G.add_edge(src, dst)\n"
   ]
  },
  {
   "cell_type": "code",
   "execution_count": 78,
   "metadata": {},
   "outputs": [
    {
     "name": "stderr",
     "output_type": "stream",
     "text": [
      "\n",
      "\n",
      "\n",
      "\n",
      "\n",
      "  0%|          | 0/75149 [00:00<?, ?it/s]\u001b[A\u001b[A\u001b[A\u001b[A\u001b[A\n",
      "\n",
      "\n",
      "\n",
      "\n",
      "  0%|          | 92/75149 [00:00<01:26, 872.23it/s]\u001b[A\u001b[A\u001b[A\u001b[A\u001b[A\n"
     ]
    }
   ],
   "source": [
    "hit_rate = []\n",
    "idx = 0\n",
    "for group_id, members in tqdm(group2member.items(), dynamic_ncols=True):\n",
    "#     print(members)\n",
    "    random.shuffle(members)\n",
    "    ratio = int(len(members)*0.8)\n",
    "    exist_nodes = members[:ratio]\n",
    "    sub_graph_nodes = []\n",
    "    for node in exist_nodes:\n",
    "        n_nodes = nx.single_source_shortest_path_length(G, node, cutoff=2)\n",
    "        sub_graph_nodes += [n for n in n_nodes]\n",
    "    sub_graph_nodes = set(sub_graph_nodes)\n",
    "    sub_G = nx.Graph()\n",
    "    in_group_cnt = 0\n",
    "    for nodes in sub_graph_nodes:\n",
    "        in_group = 1 if nodes in members else 0\n",
    "        predict = 0\n",
    "        if nodes in exist_nodes:\n",
    "            predict = 0\n",
    "        elif nodes in members and nodes not in exist_nodes:\n",
    "            predict = 1\n",
    "        in_group_cnt += in_group\n",
    "        sub_G.add_node(nodes, in_group=in_group, predict=predict)\n",
    "    hit_rate.append(in_group_cnt/len(members))\n",
    "#     print('total : ',in_group_cnt)\n",
    "#     print(len(sub_G.nodes))\n",
    "    for nodes in sub_graph_nodes:\n",
    "        for n in G.neighbors(nodes):\n",
    "            if sub_G.has_node(nodes) and sub_G.has_node(n):\n",
    "                sub_G.add_edge(nodes, int(n))\n",
    "    idx += 1\n",
    "    if idx > 100:\n",
    "        break\n",
    "#     print(len(sub_G.nodes))\n",
    "#     print(len(sub_G))\n"
   ]
  },
  {
   "cell_type": "code",
   "execution_count": 54,
   "metadata": {},
   "outputs": [],
   "source": [
    "filename = 'graphv/amazon-64-DeepWalk.pkl'\n",
    "with open(filename, 'rb') as f:\n",
    "    embeddings = pickle.load(f)"
   ]
  },
  {
   "cell_type": "code",
   "execution_count": 80,
   "metadata": {},
   "outputs": [
    {
     "name": "stderr",
     "output_type": "stream",
     "text": [
      "\n",
      "\n",
      "\n",
      "\n",
      "\n",
      "100%|██████████| 67/67 [00:00<00:00, 18168.90it/s]\u001b[A\n"
     ]
    }
   ],
   "source": [
    "from torch_geometric.data import InMemoryDataset, Data\n",
    "matrix = embeddings['embedding']\n",
    "name2id = embeddings['name2id']\n",
    "matrix_dim = len(matrix[0])\n",
    "graph_idx = {}\n",
    "\n",
    "# does the order of index matter?\n",
    "# seems to me it's relative to one and another?\n",
    "for n in G.nodes:\n",
    "    graph_idx[n] = len(graph_idx)\n",
    "\n",
    "nodes = []\n",
    "edges = []\n",
    "labels = []\n",
    "\n",
    "for n in tqdm(sub_G.nodes):\n",
    "    node_latent = torch.rand(matrix_dim, requires_grad=True)\n",
    "    if str(n) in name2id:\n",
    "        node_latent = Variable(torch.from_numpy(matrix[name2id[str(n)]]))\n",
    "    edge_index = np.array(list( G.edges(n)))\n",
    "    new_edges = []\n",
    "    for idx in range(len(edge_index)):\n",
    "        src, dst = edge_index[idx]\n",
    "        edge_index[idx] = [graph_idx[src], graph_idx[dst]  ]\n",
    "        new_edges.append([graph_idx[dst], graph_idx[src]  ])\n",
    "    edges.append(np.array(new_edges))\n",
    "    edges.append(edge_index)\n",
    "    nodes.append(node_latent.unsqueeze(0))\n",
    "    label = torch.zeros((1, 3))\n",
    "    labels.append(sub_G.nodes[n]['predict'])\n",
    "\n",
    "x = torch.stack(nodes)\n",
    "edges = torch.from_numpy(np.transpose(np.concatenate(edges)))\n",
    "y = torch.from_numpy(np.array(labels))\n",
    "data = Data(x=x, edge_index=edges, y=y)"
   ]
  },
  {
   "cell_type": "code",
   "execution_count": 81,
   "metadata": {},
   "outputs": [
    {
     "data": {
      "text/plain": [
       "Data(edge_index=[2, 1004], x=[67, 1, 64], y=[67])"
      ]
     },
     "execution_count": 81,
     "metadata": {},
     "output_type": "execute_result"
    }
   ],
   "source": [
    "data"
   ]
  },
  {
   "cell_type": "code",
   "execution_count": 42,
   "metadata": {},
   "outputs": [
    {
     "name": "stdout",
     "output_type": "stream",
     "text": [
      "{'in_group': 0, 'predict': -1}\n",
      "-1\n",
      "{'in_group': 1, 'predict': 1}\n",
      "1\n",
      "{'in_group': 0, 'predict': -1}\n",
      "-1\n",
      "{'in_group': 0, 'predict': -1}\n",
      "-1\n",
      "{'in_group': 0, 'predict': -1}\n",
      "-1\n",
      "{'in_group': 0, 'predict': -1}\n",
      "-1\n",
      "{'in_group': 0, 'predict': -1}\n",
      "-1\n",
      "{'in_group': 0, 'predict': -1}\n",
      "-1\n",
      "{'in_group': 0, 'predict': -1}\n",
      "-1\n",
      "{'in_group': 0, 'predict': -1}\n",
      "-1\n",
      "{'in_group': 0, 'predict': -1}\n",
      "-1\n",
      "{'in_group': 0, 'predict': -1}\n",
      "-1\n",
      "{'in_group': 0, 'predict': -1}\n",
      "-1\n",
      "{'in_group': 0, 'predict': -1}\n",
      "-1\n",
      "{'in_group': 0, 'predict': -1}\n",
      "-1\n",
      "{'in_group': 1, 'predict': 0}\n",
      "0\n",
      "{'in_group': 0, 'predict': -1}\n",
      "-1\n",
      "{'in_group': 0, 'predict': -1}\n",
      "-1\n",
      "{'in_group': 0, 'predict': -1}\n",
      "-1\n",
      "{'in_group': 0, 'predict': -1}\n",
      "-1\n",
      "{'in_group': 0, 'predict': -1}\n",
      "-1\n",
      "{'in_group': 0, 'predict': -1}\n",
      "-1\n",
      "{'in_group': 0, 'predict': -1}\n",
      "-1\n",
      "{'in_group': 0, 'predict': -1}\n",
      "-1\n",
      "{'in_group': 0, 'predict': -1}\n",
      "-1\n",
      "{'in_group': 1, 'predict': 0}\n",
      "0\n",
      "{'in_group': 0, 'predict': -1}\n",
      "-1\n",
      "{'in_group': 0, 'predict': -1}\n",
      "-1\n",
      "{'in_group': 0, 'predict': -1}\n",
      "-1\n",
      "{'in_group': 0, 'predict': -1}\n",
      "-1\n",
      "{'in_group': 0, 'predict': -1}\n",
      "-1\n"
     ]
    }
   ],
   "source": [
    "for node_id in sub_G.nodes:\n",
    "    nodes = sub_G.nodes[node_id]\n",
    "    print(nodes)\n",
    "    if 'predict' in nodes:\n",
    "        print(nodes['predict'])\n",
    "    else:\n",
    "        print(nodes,' not found')"
   ]
  },
  {
   "cell_type": "code",
   "execution_count": 22,
   "metadata": {},
   "outputs": [
    {
     "data": {
      "text/plain": [
       "{'in_group': 1}"
      ]
     },
     "execution_count": 22,
     "metadata": {},
     "output_type": "execute_result"
    }
   ],
   "source": [
    "sub_G.nodes[257630].in_group"
   ]
  },
  {
   "cell_type": "code",
   "execution_count": 32,
   "metadata": {},
   "outputs": [
    {
     "name": "stderr",
     "output_type": "stream",
     "text": [
      "\n",
      "  0%|          | 0/75149 [00:00<?, ?it/s]\u001b[A\n",
      "  0%|          | 111/75149 [00:00<01:44, 716.01it/s]\u001b[A\n",
      "  0%|          | 133/75149 [00:04<1:22:37, 15.13it/s]\u001b[A\n",
      "  0%|          | 151/75149 [00:08<2:14:28,  9.29it/s]\u001b[A\n",
      "  0%|          | 162/75149 [00:08<1:38:06, 12.74it/s]\u001b[A\n",
      "  0%|          | 177/75149 [00:08<1:11:58, 17.36it/s]\u001b[A\n",
      "  0%|          | 177/75149 [00:21<1:11:58, 17.36it/s]\u001b[A\n",
      "  0%|          | 199/75149 [00:32<7:31:09,  2.77it/s]\u001b[A\n",
      "  0%|          | 200/75149 [00:37<39:37:53,  1.90s/it]\u001b[A\n",
      "  0%|          | 219/75149 [00:38<27:47:21,  1.34s/it]\u001b[A\n",
      "  0%|          | 244/75149 [00:39<19:44:06,  1.05it/s]\u001b[A\n",
      "  0%|          | 248/75149 [00:40<15:04:08,  1.38it/s]\u001b[A\n",
      "  0%|          | 313/75149 [00:40<10:34:13,  1.97it/s]\u001b[A\n",
      "  1%|          | 396/75149 [00:40<7:24:12,  2.80it/s] \u001b[A\n",
      "  1%|          | 473/75149 [00:40<5:11:14,  4.00it/s]\u001b[A\n",
      "  1%|          | 506/75149 [00:41<3:51:57,  5.36it/s]\u001b[A\n",
      "  1%|          | 556/75149 [00:42<2:44:25,  7.56it/s]\u001b[A\n",
      "  1%|          | 578/75149 [00:42<2:07:44,  9.73it/s]\u001b[A\n",
      "  1%|          | 599/75149 [00:44<1:49:16, 11.37it/s]\u001b[A\n",
      "  1%|          | 613/75149 [00:44<1:23:09, 14.94it/s]\u001b[A\n",
      "  1%|          | 613/75149 [01:01<1:23:09, 14.94it/s]\u001b[A\n",
      "  1%|          | 615/75149 [01:02<58:37:06,  2.83s/it]\u001b[A\n",
      "  1%|          | 616/75149 [01:03<45:17:52,  2.19s/it]\u001b[A\n",
      "  1%|          | 630/75149 [01:03<31:44:50,  1.53s/it]\u001b[A\n",
      "  1%|          | 688/75149 [01:03<22:13:15,  1.07s/it]\u001b[A\n",
      "  1%|          | 688/75149 [01:21<22:13:15,  1.07s/it]\u001b[A\n",
      "  1%|          | 735/75149 [04:52<45:45:30,  2.21s/it]\u001b[A\n",
      "  1%|          | 736/75149 [08:32<1395:50:31, 67.53s/it]\u001b[A\n",
      "  1%|          | 737/75149 [10:43<1789:17:44, 86.56s/it]\u001b[A\n",
      "  1%|          | 753/75149 [10:47<1253:44:55, 60.67s/it]\u001b[A\n",
      "  1%|          | 796/75149 [10:47<877:08:06, 42.47s/it] \u001b[A\n",
      "  1%|          | 807/75149 [10:47<613:58:28, 29.73s/it]\u001b[A\n",
      "  1%|          | 817/75149 [10:48<429:53:48, 20.82s/it]\u001b[A\n",
      "  1%|          | 882/75149 [10:48<300:40:36, 14.57s/it]\u001b[A\n",
      "  1%|▏         | 972/75149 [10:48<210:13:32, 10.20s/it]\u001b[A"
     ]
    }
   ],
   "source": [
    "stats = defaultdict(int)\n",
    "group_size = defaultdict(int)\n",
    "group_num = 0\n",
    "for group_id, members in tqdm(group2member.items()):\n",
    "    for idx, src in enumerate(members):\n",
    "        for jdx, dst in enumerate(members[idx+1:]):\n",
    "            distance = nx.shortest_path_length(G, source=src, target=dst)\n",
    "            stats[distance] += 1\n",
    "    group_size[len(members)] += 1\n",
    "    group_num += 1\n",
    "    if group_num > 1000:\n",
    "        break"
   ]
  },
  {
   "cell_type": "code",
   "execution_count": 41,
   "metadata": {},
   "outputs": [
    {
     "data": {
      "image/png": "[encoded data removed]",
      "text/plain": [
       "<Figure size 1080x360 with 2 Axes>"
      ]
     },
     "metadata": {
      "needs_background": "light"
     },
     "output_type": "display_data"
    }
   ],
   "source": [
    "fig2, (ax1, ax2) = plt.subplots(nrows=1, ncols=2,figsize=(15,5)) # two axes on figure\n",
    "fig2.suptitle(dataset)\n",
    "data = {\n",
    "    'x': [ key for key, _ in stats.items() ],\n",
    "    'y': [ size for _, size in stats.items() ],\n",
    "}\n",
    "ax1.set_title('group members shortest distance')\n",
    "sns.lineplot(x='x', y='y', data=data, ax=ax1)\n",
    "data = {\n",
    "    'x': [ key for key, _ in group_size.items() ],\n",
    "    'y': [ size for _, size in group_size.items() ],\n",
    "}\n",
    "ax2.set_title('group size')\n",
    "sns.lineplot(x='x', y='y', data=data, ax=ax2)\n",
    "fig2.savefig('{}.png'.format(dataset))"
   ]
  },
  {
   "cell_type": "code",
   "execution_count": null,
   "metadata": {},
   "outputs": [],
   "source": []
  }
 ],
 "metadata": {
  "kernelspec": {
   "display_name": "Python 3",
   "language": "python",
   "name": "python3"
  },
  "language_info": {
   "codemirror_mode": {
    "name": "ipython",
    "version": 3
   },
   "file_extension": ".py",
   "mimetype": "text/x-python",
   "name": "python",
   "nbconvert_exporter": "python",
   "pygments_lexer": "ipython3",
   "version": "3.6.8"
  }
 },
 "nbformat": 4,
 "nbformat_minor": 4
}
