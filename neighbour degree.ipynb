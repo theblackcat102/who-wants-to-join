{
 "cells": [
  {
   "cell_type": "code",
   "execution_count": 1,
   "metadata": {},
   "outputs": [],
   "source": [
    "import networkx as nx\n",
    "import numpy as np\n",
    "import matplotlib.pyplot as plt\n",
    "import seaborn as sns\n",
    "from collections import defaultdict\n",
    "from tqdm import tqdm\n",
    "import random\n",
    "import pickle\n",
    "import torch\n",
    "import pandas as pd\n",
    "from torch.autograd import Variable, Function\n",
    "%load_ext autoreload\n",
    "%autoreload 2"
   ]
  },
  {
   "cell_type": "code",
   "execution_count": 2,
   "metadata": {},
   "outputs": [
    {
     "name": "stderr",
     "output_type": "stream",
     "text": [
      "100%|██████████| 925872/925872 [00:00<00:00, 1004863.55it/s]\n",
      "100%|██████████| 75149/75149 [00:00<00:00, 79232.54it/s]\n"
     ]
    }
   ],
   "source": [
    "dataset = 'amazon'\n",
    "# load group mappings\n",
    "\n",
    "member2group = defaultdict(list)\n",
    "group2member = defaultdict(list)\n",
    "edges = defaultdict(int)\n",
    "\n",
    "# create member edge\n",
    "with open('{}/com-{}.ungraph.txt'.format(dataset, dataset), 'r') as f:\n",
    "    for line in tqdm(f.readlines()):\n",
    "        edge = [ str(int(m)) for m in line.split('\\t')]\n",
    "        edge = '_'.join(edge)\n",
    "        edges[edge] = 1\n",
    "\n",
    "# load directed graph\n",
    "with open('{}/com-{}.all.cmty.txt'.format(dataset, dataset), 'r') as f: \n",
    "    for line in tqdm(f.readlines()):\n",
    "        members = line.split('\\t')\n",
    "        members = [ int(m) for m in members]\n",
    "        group_id = len(group2member)\n",
    "        group2member[group_id] = members\n",
    "        for m in members:\n",
    "            member2group[m].append(group_id)\n"
   ]
  },
  {
   "cell_type": "code",
   "execution_count": 3,
   "metadata": {},
   "outputs": [],
   "source": [
    "G = nx.Graph()\n",
    "for edge in edges:\n",
    "    src, dst = edge.split('_')\n",
    "    src, dst = int(src), int(dst)\n",
    "    \n",
    "    if not G.has_node(src):\n",
    "        G.add_node(src, group=member2group[src])\n",
    "\n",
    "    if not G.has_node(dst):\n",
    "        G.add_node(dst, group=member2group[dst])\n",
    "    \n",
    "    if G.has_node(src) and G.has_node(dst):\n",
    "        G.add_edge(src, dst)\n"
   ]
  },
  {
   "cell_type": "code",
   "execution_count": 78,
   "metadata": {},
   "outputs": [
    {
     "name": "stderr",
     "output_type": "stream",
     "text": [
      "\n",
      "\n",
      "\n",
      "\n",
      "\n",
      "  0%|          | 0/75149 [00:00<?, ?it/s]\u001b[A\u001b[A\u001b[A\u001b[A\u001b[A\n",
      "\n",
      "\n",
      "\n",
      "\n",
      "  0%|          | 92/75149 [00:00<01:26, 872.23it/s]\u001b[A\u001b[A\u001b[A\u001b[A\u001b[A\n"
     ]
    }
   ],
   "source": [
    "hit_rate = []\n",
    "idx = 0\n",
    "for group_id, members in tqdm(group2member.items(), dynamic_ncols=True):\n",
    "#     print(members)\n",
    "    random.shuffle(members)\n",
    "    ratio = int(len(members)*0.8)\n",
    "    exist_nodes = members[:ratio]\n",
    "    sub_graph_nodes = []\n",
    "    for node in exist_nodes:\n",
    "        n_nodes = nx.single_source_shortest_path_length(G, node, cutoff=2)\n",
    "        sub_graph_nodes += [n for n in n_nodes]\n",
    "    sub_graph_nodes = set(sub_graph_nodes)\n",
    "    sub_G = nx.Graph()\n",
    "    in_group_cnt = 0\n",
    "    for nodes in sub_graph_nodes:\n",
    "        in_group = 1 if nodes in members else 0\n",
    "        predict = 0\n",
    "        if nodes in exist_nodes:\n",
    "            predict = 0\n",
    "        elif nodes in members and nodes not in exist_nodes:\n",
    "            predict = 1\n",
    "        in_group_cnt += in_group\n",
    "        sub_G.add_node(nodes, in_group=in_group, predict=predict)\n",
    "    hit_rate.append(in_group_cnt/len(members))\n",
    "#     print('total : ',in_group_cnt)\n",
    "#     print(len(sub_G.nodes))\n",
    "    for nodes in sub_graph_nodes:\n",
    "        for n in G.neighbors(nodes):\n",
    "            if sub_G.has_node(nodes) and sub_G.has_node(n):\n",
    "                sub_G.add_edge(nodes, int(n))\n",
    "    idx += 1\n",
    "    if idx > 100:\n",
    "        break\n",
    "#     print(len(sub_G.nodes))\n",
    "#     print(len(sub_G))\n"
   ]
  },
  {
   "cell_type": "code",
   "execution_count": 54,
   "metadata": {},
   "outputs": [],
   "source": [
    "filename = 'graphv/amazon-64-DeepWalk.pkl'\n",
    "with open(filename, 'rb') as f:\n",
    "    embeddings = pickle.load(f)"
   ]
  },
  {
   "cell_type": "code",
   "execution_count": 80,
   "metadata": {},
   "outputs": [
    {
     "name": "stderr",
     "output_type": "stream",
     "text": [
      "\n",
      "\n",
      "\n",
      "\n",
      "\n",
      "100%|██████████| 67/67 [00:00<00:00, 18168.90it/s]\u001b[A\n"
     ]
    }
   ],
   "source": [
    "from torch_geometric.data import InMemoryDataset, Data\n",
    "matrix = embeddings['embedding']\n",
    "name2id = embeddings['name2id']\n",
    "matrix_dim = len(matrix[0])\n",
    "graph_idx = {}\n",
    "\n",
    "# does the order of index matter?\n",
    "# seems to me it's relative to one and another?\n",
    "for n in G.nodes:\n",
    "    graph_idx[n] = len(graph_idx)\n",
    "\n",
    "nodes = []\n",
    "edges = []\n",
    "labels = []\n",
    "\n",
    "for n in tqdm(sub_G.nodes):\n",
    "    node_latent = torch.rand(matrix_dim, requires_grad=True)\n",
    "    if str(n) in name2id:\n",
    "        node_latent = Variable(torch.from_numpy(matrix[name2id[str(n)]]))\n",
    "    edge_index = np.array(list( G.edges(n)))\n",
    "    new_edges = []\n",
    "    for idx in range(len(edge_index)):\n",
    "        src, dst = edge_index[idx]\n",
    "        edge_index[idx] = [graph_idx[src], graph_idx[dst]  ]\n",
    "        new_edges.append([graph_idx[dst], graph_idx[src]  ])\n",
    "    edges.append(np.array(new_edges))\n",
    "    edges.append(edge_index)\n",
    "    nodes.append(node_latent.unsqueeze(0))\n",
    "    label = torch.zeros((1, 3))\n",
    "    labels.append(sub_G.nodes[n]['predict'])\n",
    "\n",
    "x = torch.stack(nodes)\n",
    "edges = torch.from_numpy(np.transpose(np.concatenate(edges)))\n",
    "y = torch.from_numpy(np.array(labels))\n",
    "data = Data(x=x, edge_index=edges, y=y)"
   ]
  },
  {
   "cell_type": "code",
   "execution_count": 81,
   "metadata": {},
   "outputs": [
    {
     "data": {
      "text/plain": [
       "Data(edge_index=[2, 1004], x=[67, 1, 64], y=[67])"
      ]
     },
     "execution_count": 81,
     "metadata": {},
     "output_type": "execute_result"
    }
   ],
   "source": [
    "data"
   ]
  },
  {
   "cell_type": "code",
   "execution_count": 42,
   "metadata": {},
   "outputs": [
    {
     "name": "stdout",
     "output_type": "stream",
     "text": [
      "{'in_group': 0, 'predict': -1}\n",
      "-1\n",
      "{'in_group': 1, 'predict': 1}\n",
      "1\n",
      "{'in_group': 0, 'predict': -1}\n",
      "-1\n",
      "{'in_group': 0, 'predict': -1}\n",
      "-1\n",
      "{'in_group': 0, 'predict': -1}\n",
      "-1\n",
      "{'in_group': 0, 'predict': -1}\n",
      "-1\n",
      "{'in_group': 0, 'predict': -1}\n",
      "-1\n",
      "{'in_group': 0, 'predict': -1}\n",
      "-1\n",
      "{'in_group': 0, 'predict': -1}\n",
      "-1\n",
      "{'in_group': 0, 'predict': -1}\n",
      "-1\n",
      "{'in_group': 0, 'predict': -1}\n",
      "-1\n",
      "{'in_group': 0, 'predict': -1}\n",
      "-1\n",
      "{'in_group': 0, 'predict': -1}\n",
      "-1\n",
      "{'in_group': 0, 'predict': -1}\n",
      "-1\n",
      "{'in_group': 0, 'predict': -1}\n",
      "-1\n",
      "{'in_group': 1, 'predict': 0}\n",
      "0\n",
      "{'in_group': 0, 'predict': -1}\n",
      "-1\n",
      "{'in_group': 0, 'predict': -1}\n",
      "-1\n",
      "{'in_group': 0, 'predict': -1}\n",
      "-1\n",
      "{'in_group': 0, 'predict': -1}\n",
      "-1\n",
      "{'in_group': 0, 'predict': -1}\n",
      "-1\n",
      "{'in_group': 0, 'predict': -1}\n",
      "-1\n",
      "{'in_group': 0, 'predict': -1}\n",
      "-1\n",
      "{'in_group': 0, 'predict': -1}\n",
      "-1\n",
      "{'in_group': 0, 'predict': -1}\n",
      "-1\n",
      "{'in_group': 1, 'predict': 0}\n",
      "0\n",
      "{'in_group': 0, 'predict': -1}\n",
      "-1\n",
      "{'in_group': 0, 'predict': -1}\n",
      "-1\n",
      "{'in_group': 0, 'predict': -1}\n",
      "-1\n",
      "{'in_group': 0, 'predict': -1}\n",
      "-1\n",
      "{'in_group': 0, 'predict': -1}\n",
      "-1\n"
     ]
    }
   ],
   "source": [
    "for node_id in sub_G.nodes:\n",
    "    nodes = sub_G.nodes[node_id]\n",
    "    print(nodes)\n",
    "    if 'predict' in nodes:\n",
    "        print(nodes['predict'])\n",
    "    else:\n",
    "        print(nodes,' not found')"
   ]
  },
  {
   "cell_type": "code",
   "execution_count": 22,
   "metadata": {},
   "outputs": [
    {
     "data": {
      "text/plain": [
       "{'in_group': 1}"
      ]
     },
     "execution_count": 22,
     "metadata": {},
     "output_type": "execute_result"
    }
   ],
   "source": [
    "sub_G.nodes[257630].in_group"
   ]
  },
  {
   "cell_type": "code",
   "execution_count": 32,
   "metadata": {},
   "outputs": [
    {
     "name": "stderr",
     "output_type": "stream",
     "text": [
      "\n",
      "  0%|          | 0/75149 [00:00<?, ?it/s]\u001b[A\n",
      "  0%|          | 111/75149 [00:00<01:44, 716.01it/s]\u001b[A\n",
      "  0%|          | 133/75149 [00:04<1:22:37, 15.13it/s]\u001b[A\n",
      "  0%|          | 151/75149 [00:08<2:14:28,  9.29it/s]\u001b[A\n",
      "  0%|          | 162/75149 [00:08<1:38:06, 12.74it/s]\u001b[A\n",
      "  0%|          | 177/75149 [00:08<1:11:58, 17.36it/s]\u001b[A\n",
      "  0%|          | 177/75149 [00:21<1:11:58, 17.36it/s]\u001b[A\n",
      "  0%|          | 199/75149 [00:32<7:31:09,  2.77it/s]\u001b[A\n",
      "  0%|          | 200/75149 [00:37<39:37:53,  1.90s/it]\u001b[A\n",
      "  0%|          | 219/75149 [00:38<27:47:21,  1.34s/it]\u001b[A\n",
      "  0%|          | 244/75149 [00:39<19:44:06,  1.05it/s]\u001b[A\n",
      "  0%|          | 248/75149 [00:40<15:04:08,  1.38it/s]\u001b[A\n",
      "  0%|          | 313/75149 [00:40<10:34:13,  1.97it/s]\u001b[A\n",
      "  1%|          | 396/75149 [00:40<7:24:12,  2.80it/s] \u001b[A\n",
      "  1%|          | 473/75149 [00:40<5:11:14,  4.00it/s]\u001b[A\n",
      "  1%|          | 506/75149 [00:41<3:51:57,  5.36it/s]\u001b[A\n",
      "  1%|          | 556/75149 [00:42<2:44:25,  7.56it/s]\u001b[A\n",
      "  1%|          | 578/75149 [00:42<2:07:44,  9.73it/s]\u001b[A\n",
      "  1%|          | 599/75149 [00:44<1:49:16, 11.37it/s]\u001b[A\n",
      "  1%|          | 613/75149 [00:44<1:23:09, 14.94it/s]\u001b[A\n",
      "  1%|          | 613/75149 [01:01<1:23:09, 14.94it/s]\u001b[A\n",
      "  1%|          | 615/75149 [01:02<58:37:06,  2.83s/it]\u001b[A\n",
      "  1%|          | 616/75149 [01:03<45:17:52,  2.19s/it]\u001b[A\n",
      "  1%|          | 630/75149 [01:03<31:44:50,  1.53s/it]\u001b[A\n",
      "  1%|          | 688/75149 [01:03<22:13:15,  1.07s/it]\u001b[A\n",
      "  1%|          | 688/75149 [01:21<22:13:15,  1.07s/it]\u001b[A\n",
      "  1%|          | 735/75149 [04:52<45:45:30,  2.21s/it]\u001b[A\n",
      "  1%|          | 736/75149 [08:32<1395:50:31, 67.53s/it]\u001b[A\n",
      "  1%|          | 737/75149 [10:43<1789:17:44, 86.56s/it]\u001b[A\n",
      "  1%|          | 753/75149 [10:47<1253:44:55, 60.67s/it]\u001b[A\n",
      "  1%|          | 796/75149 [10:47<877:08:06, 42.47s/it] \u001b[A\n",
      "  1%|          | 807/75149 [10:47<613:58:28, 29.73s/it]\u001b[A\n",
      "  1%|          | 817/75149 [10:48<429:53:48, 20.82s/it]\u001b[A\n",
      "  1%|          | 882/75149 [10:48<300:40:36, 14.57s/it]\u001b[A\n",
      "  1%|▏         | 972/75149 [10:48<210:13:32, 10.20s/it]\u001b[A"
     ]
    }
   ],
   "source": [
    "stats = defaultdict(int)\n",
    "group_size = defaultdict(int)\n",
    "group_num = 0\n",
    "for group_id, members in tqdm(group2member.items()):\n",
    "    for idx, src in enumerate(members):\n",
    "        for jdx, dst in enumerate(members[idx+1:]):\n",
    "            distance = nx.shortest_path_length(G, source=src, target=dst)\n",
    "            stats[distance] += 1\n",
    "    group_size[len(members)] += 1\n",
    "    group_num += 1\n",
    "    if group_num > 1000:\n",
    "        break"
   ]
  },
  {
   "cell_type": "code",
   "execution_count": 41,
   "metadata": {},
   "outputs": [
    {
     "data": {
      "image/png": "[encoded data removed]",
      "text/plain": [
       "<Figure size 1080x360 with 2 Axes>"
      ]
     },
     "metadata": {
      "needs_background": "light"
     },
     "output_type": "display_data"
    }
   ],
   "source": [
    "fig2, (ax1, ax2) = plt.subplots(nrows=1, ncols=2,figsize=(15,5)) # two axes on figure\n",
    "fig2.suptitle(dataset)\n",
    "data = {\n",
    "    'x': [ key for key, _ in stats.items() ],\n",
    "    'y': [ size for _, size in stats.items() ],\n",
    "}\n",
    "ax1.set_title('group members shortest distance')\n",
    "sns.lineplot(x='x', y='y', data=data, ax=ax1)\n",
    "data = {\n",
    "    'x': [ key for key, _ in group_size.items() ],\n",
    "    'y': [ size for _, size in group_size.items() ],\n",
    "}\n",
    "ax2.set_title('group size')\n",
    "sns.lineplot(x='x', y='y', data=data, ax=ax2)\n",
    "fig2.savefig('{}.png'.format(dataset))"
   ]
  },
  {
   "cell_type": "code",
   "execution_count": 11,
   "metadata": {},
   "outputs": [],
   "source": [
    "import json\n",
    "from collections import defaultdict\n",
    "movies = []\n",
    "actor_cnt = defaultdict(int)\n",
    "with open('movielens/movie_metadata_v3.jsonl', 'r') as f:\n",
    "    for line in f.readlines():\n",
    "        try:\n",
    "            movie = json.loads(line)\n",
    "            movies.append(movie)\n",
    "            for actor in movie['actors']:\n",
    "                actor_cnt[actor] += 1\n",
    "        except:\n",
    "            continue\n"
   ]
  },
  {
   "cell_type": "code",
   "execution_count": 12,
   "metadata": {},
   "outputs": [
    {
     "data": {
      "text/plain": [
       "4920"
      ]
     },
     "execution_count": 12,
     "metadata": {},
     "output_type": "execute_result"
    }
   ],
   "source": [
    "len(movies)"
   ]
  },
  {
   "cell_type": "code",
   "execution_count": 13,
   "metadata": {},
   "outputs": [],
   "source": [
    "count_dist = []\n",
    "for name, count in actor_cnt.items():\n",
    "    count_dist.append(count)"
   ]
  },
  {
   "cell_type": "code",
   "execution_count": 15,
   "metadata": {},
   "outputs": [],
   "source": [
    "stats = defaultdict(int)\n",
    "for act, count in actor_cnt.items():\n",
    "    stats[count] += 1"
   ]
  },
  {
   "cell_type": "code",
   "execution_count": 16,
   "metadata": {},
   "outputs": [
    {
     "data": {
      "text/plain": [
       "<matplotlib.axes._subplots.AxesSubplot at 0x7f0ca0bb0ba8>"
      ]
     },
     "execution_count": 16,
     "metadata": {},
     "output_type": "execute_result"
    },
    {
     "data": {
      "image/png": "[encoded data removed]",
      "text/plain": [
       "<Figure size 432x288 with 1 Axes>"
      ]
     },
     "metadata": {
      "needs_background": "light"
     },
     "output_type": "display_data"
    }
   ],
   "source": [
    "data = {\n",
    "    'x': [ key for key, _ in stats.items() ],\n",
    "    'y': [ size for _, size in stats.items() ],\n",
    "}\n",
    "sns.lineplot(x='x', y='y', data=data)"
   ]
  },
  {
   "cell_type": "code",
   "execution_count": 19,
   "metadata": {},
   "outputs": [
    {
     "data": {
      "text/plain": [
       "7598"
      ]
     },
     "execution_count": 19,
     "metadata": {},
     "output_type": "execute_result"
    }
   ],
   "source": [
    "stats[1]"
   ]
  },
  {
   "cell_type": "code",
   "execution_count": 20,
   "metadata": {},
   "outputs": [
    {
     "name": "stdout",
     "output_type": "stream",
     "text": [
      "11615\n"
     ]
    }
   ],
   "source": [
    "print(len(actor_cnt))"
   ]
  },
  {
   "cell_type": "code",
   "execution_count": 39,
   "metadata": {},
   "outputs": [
    {
     "ename": "FileNotFoundError",
     "evalue": "[Errno 2] No such file or directory: 'meetup_v2/94101_5_100_valid_members.pkl'",
     "output_type": "error",
     "traceback": [
      "\u001b[0;31m---------------------------------------------------------------------------\u001b[0m",
      "\u001b[0;31mFileNotFoundError\u001b[0m                         Traceback (most recent call last)",
      "\u001b[0;32m<ipython-input-39-95dc0036cc3f>\u001b[0m in \u001b[0;36m<module>\u001b[0;34m\u001b[0m\n\u001b[0;32m----> 1\u001b[0;31m \u001b[0;32mwith\u001b[0m \u001b[0mopen\u001b[0m\u001b[0;34m(\u001b[0m\u001b[0;34m'meetup_v2/94101_5_100_valid_members.pkl'\u001b[0m\u001b[0;34m,\u001b[0m \u001b[0;34m'rb'\u001b[0m\u001b[0;34m)\u001b[0m \u001b[0;32mas\u001b[0m \u001b[0mf\u001b[0m\u001b[0;34m:\u001b[0m\u001b[0;34m\u001b[0m\u001b[0;34m\u001b[0m\u001b[0m\n\u001b[0m\u001b[1;32m      2\u001b[0m     \u001b[0mvalid_members\u001b[0m \u001b[0;34m=\u001b[0m \u001b[0mpickle\u001b[0m\u001b[0;34m.\u001b[0m\u001b[0mload\u001b[0m\u001b[0;34m(\u001b[0m\u001b[0mf\u001b[0m\u001b[0;34m)\u001b[0m\u001b[0;34m\u001b[0m\u001b[0;34m\u001b[0m\u001b[0m\n\u001b[1;32m      3\u001b[0m \u001b[0mprint\u001b[0m\u001b[0;34m(\u001b[0m\u001b[0mvalid_members\u001b[0m\u001b[0;34m)\u001b[0m\u001b[0;34m\u001b[0m\u001b[0;34m\u001b[0m\u001b[0m\n",
      "\u001b[0;31mFileNotFoundError\u001b[0m: [Errno 2] No such file or directory: 'meetup_v2/94101_5_100_valid_members.pkl'"
     ]
    }
   ],
   "source": [
    "with open('meetup_v2/94101_5_100_valid_members.pkl', 'rb') as f:\n",
    "    valid_members = pickle.load(f)\n",
    "print(len(valid_members['valid']))"
   ]
  },
  {
   "cell_type": "code",
   "execution_count": 43,
   "metadata": {},
   "outputs": [],
   "source": [
    "df = pd.read_csv('ml-latest-small/ratings.csv')\n",
    "movie_rating_stats = defaultdict(int)\n",
    "user_rating_stats = defaultdict(int)\n",
    "rating_stats = defaultdict(int)\n",
    "\n",
    "for idx, row in df.iterrows():\n",
    "    movie_rating_stats[row['movieId']] += 1\n",
    "    rating_stats[row['rating']] += 1\n",
    "    user_rating_stats[row['userId']] += 1\n"
   ]
  },
  {
   "cell_type": "code",
   "execution_count": 44,
   "metadata": {},
   "outputs": [
    {
     "name": "stdout",
     "output_type": "stream",
     "text": [
      "defaultdict(<class 'int'>, {4.0: 26818, 5.0: 13211, 3.0: 20047, 2.0: 7551, 1.0: 2811, 4.5: 8551, 3.5: 13136, 2.5: 5550, 0.5: 1370, 1.5: 1791})\n"
     ]
    }
   ],
   "source": [
    "print(rating_stats)"
   ]
  },
  {
   "cell_type": "code",
   "execution_count": 41,
   "metadata": {},
   "outputs": [
    {
     "name": "stderr",
     "output_type": "stream",
     "text": [
      "100%|██████████| 23847313/23847313 [01:00<00:00, 394094.94it/s]\n"
     ]
    }
   ],
   "source": [
    "author2id = defaultdict(int)\n",
    "paper2id = defaultdict(int)\n",
    "conf2id = defaultdict(int)\n",
    "member2freq = defaultdict(int)\n",
    "papers = []\n",
    "data = {}\n",
    "cnt = 0\n",
    "with open('aminer/dblp.txt', 'r') as f:\n",
    "    for line in tqdm(f.readlines()):\n",
    "        if '#' in line:\n",
    "            if '*' == line[1]:\n",
    "                if len(data) > 3 and 'authors' in data and len(data['authors']) >= 5 and len(data['authors']) <= 100:\n",
    "                    papers.append(data)\n",
    "                data = {}\n",
    "                title = line.strip()[2:]\n",
    "                if title not in paper2id:\n",
    "                    paper2id[title] = len(paper2id)\n",
    "                data['title'] = title\n",
    "            elif '@' == line[1]:\n",
    "                author_line = line.strip()[2:]\n",
    "                authors = [a.strip() for a in author_line.split(',')]\n",
    "                if len(authors) < 5 or len(authors) > 100:\n",
    "                    continue\n",
    "                for a in authors:\n",
    "                    member2freq[a] += 1\n",
    "                    if a not in author2id:\n",
    "                        author2id[a] = len(author2id)\n",
    "                data['authors'] = authors\n",
    "            elif 'c' == line[1]:\n",
    "                conf = line.strip()[2:]\n",
    "                if conf not in conf2id:\n",
    "                    conf2id[conf] = len(conf2id)\n",
    "                data['conf'] = conf\n",
    "            elif 't' == line[1]:\n",
    "                year = line.strip()[2:]\n",
    "                data['year'] = int(year)\n",
    "                \n",
    "if len(data) > 3 and 'authors' in data and len(data['authors']) >= 3:\n",
    "    papers.append(data)"
   ]
  },
  {
   "cell_type": "code",
   "execution_count": 42,
   "metadata": {},
   "outputs": [],
   "source": [
    "papers.sort(key=lambda x: x['year'])"
   ]
  },
  {
   "cell_type": "code",
   "execution_count": 5,
   "metadata": {},
   "outputs": [
    {
     "data": {
      "text/plain": [
       "<matplotlib.axes._subplots.AxesSubplot at 0x7f9e96d3ff28>"
      ]
     },
     "execution_count": 5,
     "metadata": {},
     "output_type": "execute_result"
    },
    {
     "data": {
      "image/png": "[encoded data removed]",
      "text/plain": [
       "<Figure size 432x288 with 1 Axes>"
      ]
     },
     "metadata": {
      "needs_background": "light"
     },
     "output_type": "display_data"
    }
   ],
   "source": [
    "stats = defaultdict(int)\n",
    "for p in papers:\n",
    "    stats[len(p['authors'])] += 1\n",
    "data = {\n",
    "    'x': [ key for key, _ in stats.items() ],\n",
    "    'y': [ size for _, size in stats.items() ],\n",
    "}\n",
    "sns.lineplot(x='x', y='y', data=data)"
   ]
  },
  {
   "cell_type": "code",
   "execution_count": 6,
   "metadata": {},
   "outputs": [],
   "source": [
    "papers.sort(key=lambda x:x['year'])"
   ]
  },
  {
   "cell_type": "code",
   "execution_count": 28,
   "metadata": {},
   "outputs": [
    {
     "data": {
      "text/plain": [
       "({'title': 'Experiments in Chess.',\n",
       "  'authors': ['J. Kister', 'P. Stein', 'S. Ulam', 'W. Walden', 'M. Wells'],\n",
       "  'year': 1957,\n",
       "  'conf': 'J. ACM'},\n",
       " {'title': 'Knowledge Graph Foundations.',\n",
       "  'authors': ['Boris Villazón-Terrazas',\n",
       "   'Nuria García-Santa',\n",
       "   'Yuan Ren',\n",
       "   'Alessandro Faraotti',\n",
       "   'Honghan Wu',\n",
       "   'Yuting Zhao',\n",
       "   'Guido Vetere',\n",
       "   'Jeff Z. Pan'],\n",
       "  'year': 2017,\n",
       "  'conf': 'Exploiting Linked Data and Knowledge Graphs in Large Organisations'})"
      ]
     },
     "execution_count": 28,
     "metadata": {},
     "output_type": "execute_result"
    }
   ],
   "source": [
    "papers[0], papers[-1]"
   ]
  },
  {
   "cell_type": "code",
   "execution_count": 37,
   "metadata": {},
   "outputs": [],
   "source": [
    "with open('paper_author_edge.txt', 'w') as f:\n",
    "    for p in papers:\n",
    "        for a in p['authors']:\n",
    "            f.write('{}\\t{}\\n'.format(paper2id[p['title']], author2id[a]))\n",
    "\n",
    "with open('conf_paper_edge.txt', 'w') as f:\n",
    "    for p in papers:\n",
    "        f.write('{}\\t{}\\n'.format(paper2id[p['title']], conf2id[p['conf']]))"
   ]
  },
  {
   "cell_type": "code",
   "execution_count": 129,
   "metadata": {},
   "outputs": [],
   "source": [
    "with open('aminer/preprocess_dblp.pkl', 'rb') as f:\n",
    "    dblp = pickle.load(f)\n",
    "\n",
    "papers = dblp['papers']\n",
    "author2id = dblp['author2id']\n",
    "paper2id = dblp['paper2id']\n",
    "conf2id = dblp['conf2id']\n",
    "paper2authors = dblp['paper2authors']\n",
    "index2title = dblp['index2title']\n",
    "citation_graph = dblp['citation_graph']"
   ]
  },
  {
   "cell_type": "code",
   "execution_count": 125,
   "metadata": {},
   "outputs": [
    {
     "name": "stderr",
     "output_type": "stream",
     "text": [
      "100%|██████████| 231215/231215 [00:23<00:00, 9723.41it/s] \n"
     ]
    }
   ],
   "source": [
    "G = nx.Graph()\n",
    "\n",
    "for p in tqdm(papers[:len(papers)//2]):\n",
    "\n",
    "    p_id = 'p'+str(paper2id[p['title']])\n",
    "    c_id = 'c'+str(conf2id[p['conf']])\n",
    "\n",
    "    if not G.has_node(p_id):\n",
    "        G.add_node(p_id)\n",
    "\n",
    "    for n in citation_graph.neighbors(p['index']):\n",
    "        neighbour_title = index2title[n]\n",
    "        id_ = paper2id[neighbour_title]\n",
    "\n",
    "        n_p_id = 'p'+str(id_)\n",
    "        \n",
    "        if not G.has_node(n_p_id):\n",
    "            G.add_node(n_p_id)       \n",
    "        \n",
    "        G.add_edge(p_id, n_p_id)\n",
    "\n",
    "\n",
    "    for a in p['authors']:\n",
    "        a_id = 'a'+str(author2id[a])\n",
    "\n",
    "        if not G.has_node(a_id):\n",
    "            G.add_node(a_id)\n",
    "        G.add_edge(p_id, a_id)\n",
    "\n",
    "    if not G.has_node(c_id):\n",
    "        G.add_node(c_id)\n",
    "    G.add_edge(c_id, p_id)"
   ]
  },
  {
   "cell_type": "code",
   "execution_count": 75,
   "metadata": {},
   "outputs": [
    {
     "name": "stderr",
     "output_type": "stream",
     "text": [
      "100%|██████████| 231216/231216 [00:15<00:00, 15228.48it/s]\n"
     ]
    }
   ],
   "source": [
    "matched = 0\n",
    "stats = defaultdict(int)\n",
    "for  p in tqdm(papers[len(papers)//2:]):\n",
    "    count = 0\n",
    "    for a in p['authors']:\n",
    "        a_id = 'a'+str(author2id[a])\n",
    "        if G.has_node(a_id):\n",
    "            count += 1\n",
    "    stats[count] += 1\n",
    "    p_id = 'p'+str(paper2id[p['title']])\n",
    "    c_id = 'c'+str(conf2id[p['conf']])\n",
    "    for a in p['authors']:\n",
    "        a_id = 'a'+str(author2id[a])\n",
    "        if not G.has_node(p_id):\n",
    "            G.add_node(p_id)\n",
    "        if not G.has_node(a_id):\n",
    "            G.add_node(a_id)\n",
    "        G.add_edge(p_id, a_id)    \n",
    "    if not G.has_node(c_id):\n",
    "        G.add_node(c_id)\n",
    "    G.add_edge(c_id, p_id)"
   ]
  },
  {
   "cell_type": "code",
   "execution_count": 73,
   "metadata": {},
   "outputs": [
    {
     "data": {
      "text/plain": [
       "<matplotlib.axes._subplots.AxesSubplot at 0x7f2f1129b320>"
      ]
     },
     "execution_count": 73,
     "metadata": {},
     "output_type": "execute_result"
    },
    {
     "data": {
      "image/png": "[encoded data removed]",
      "text/plain": [
       "<Figure size 432x288 with 1 Axes>"
      ]
     },
     "metadata": {
      "needs_background": "light"
     },
     "output_type": "display_data"
    }
   ],
   "source": [
    "data = {\n",
    "    'x': [ key for key, _ in stats.items() ],\n",
    "    'y': [ size for _, size in stats.items() ],\n",
    "}\n",
    "fig, ax = plt.subplot()\n",
    "sns.lineplot(x='x', y='y', data=data, ax=ax)\n"
   ]
  },
  {
   "cell_type": "code",
   "execution_count": 76,
   "metadata": {},
   "outputs": [
    {
     "data": {
      "text/plain": [
       "<matplotlib.axes._subplots.AxesSubplot at 0x7f2f11208400>"
      ]
     },
     "execution_count": 76,
     "metadata": {},
     "output_type": "execute_result"
    },
    {
     "data": {
      "image/png": "[encoded data removed]",
      "text/plain": [
       "<Figure size 432x288 with 1 Axes>"
      ]
     },
     "metadata": {
      "needs_background": "light"
     },
     "output_type": "display_data"
    }
   ],
   "source": [
    "data = {\n",
    "    'x': [ key for key, _ in stats.items() ],\n",
    "    'y': [ size for _, size in stats.items() ],\n",
    "}\n",
    "fig, ax = plt.subplot()\n",
    "sns.lineplot(x='x', y='y', data=data, ax=ax)"
   ]
  },
  {
   "cell_type": "code",
   "execution_count": 137,
   "metadata": {},
   "outputs": [],
   "source": [
    "from src.aminer2 import create_subgraph, get_neighbour_nodes, graph2data\n",
    "from copy import deepcopy"
   ]
  },
  {
   "cell_type": "code",
   "execution_count": 171,
   "metadata": {},
   "outputs": [
    {
     "name": "stdout",
     "output_type": "stream",
     "text": [
      "124\n",
      "88\n",
      "42\n",
      "failed\n",
      "233\n",
      "36\n",
      "68\n",
      "29\n",
      "65\n",
      "185\n",
      "151\n",
      "65\n",
      "failed\n",
      "30\n",
      "150\n",
      "1697\n",
      "94\n",
      "8\n",
      "34\n",
      "231\n",
      "298\n",
      "81\n",
      "180\n",
      "149\n",
      "185\n",
      "427\n",
      "59\n",
      "57\n",
      "146\n",
      "14\n",
      "239\n",
      "431\n",
      "890\n",
      "409\n",
      "91\n",
      "460\n",
      "204\n",
      "259\n",
      "39\n",
      "109\n",
      "192\n",
      "60\n",
      "820\n",
      "136\n",
      "831\n",
      "371\n",
      "838\n",
      "185\n",
      "54\n",
      "127\n",
      "554\n",
      "115\n",
      "51\n",
      "102\n",
      "89\n",
      "48\n",
      "97\n",
      "88\n",
      "110\n",
      "184\n",
      "68\n",
      "135\n",
      "101\n",
      "140\n",
      "408\n",
      "155\n",
      "117\n",
      "120\n",
      "290\n",
      "78\n",
      "413\n",
      "76\n",
      "122\n",
      "failed\n",
      "91\n",
      "144\n",
      "352\n",
      "108\n",
      "127\n",
      "276\n",
      "146\n",
      "171\n",
      "242\n",
      "93\n",
      "38\n",
      "127\n",
      "10\n",
      "64\n",
      "297\n",
      "25\n",
      "92\n",
      "263\n",
      "78\n",
      "51\n",
      "33\n",
      "22\n",
      "1417\n",
      "739\n",
      "failed\n",
      "1663\n",
      "12\n",
      "failed\n",
      "8\n",
      "3333\n",
      "216\n",
      "97\n",
      "69\n",
      "63\n",
      "7\n",
      "3190\n",
      "146\n",
      "157\n",
      "47\n",
      "1913\n",
      "22\n",
      "76\n",
      "33\n",
      "64\n",
      "513\n",
      "60\n",
      "100\n",
      "575\n",
      "1103\n",
      "52\n",
      "140\n",
      "347\n",
      "223\n",
      "602\n",
      "890\n",
      "96\n",
      "58\n",
      "15\n",
      "1135\n",
      "927\n",
      "323\n",
      "360\n",
      "477\n",
      "48\n",
      "12\n",
      "1265\n",
      "95\n",
      "421\n",
      "217\n",
      "31\n",
      "180\n",
      "20\n",
      "393\n",
      "322\n",
      "609\n",
      "117\n",
      "failed\n",
      "16\n",
      "182\n",
      "108\n",
      "715\n",
      "70\n",
      "958\n",
      "713\n",
      "305\n",
      "313\n",
      "64\n",
      "failed\n",
      "191\n",
      "254\n",
      "707\n",
      "214\n",
      "293\n",
      "61\n",
      "333\n",
      "86\n",
      "26\n",
      "30\n",
      "964\n",
      "401\n",
      "241\n",
      "135\n",
      "210\n",
      "145\n",
      "89\n",
      "89\n",
      "89\n",
      "116\n",
      "24\n",
      "100\n",
      "257\n",
      "89\n",
      "129\n",
      "22\n",
      "101\n",
      "59\n",
      "162\n",
      "133\n",
      "222\n",
      "67\n",
      "119\n",
      "105\n",
      "98\n",
      "failed\n",
      "56\n",
      "115\n",
      "failed\n",
      "106\n",
      "153\n",
      "failed\n",
      "101\n",
      "232\n",
      "180\n",
      "84\n",
      "150\n",
      "325\n",
      "148\n",
      "1038\n",
      "548\n",
      "53\n",
      "41\n",
      "93\n",
      "169\n",
      "52\n",
      "288\n",
      "112\n",
      "517\n",
      "250\n",
      "159\n",
      "99\n",
      "330\n",
      "315\n",
      "110\n",
      "failed\n",
      "15\n",
      "75\n",
      "132\n",
      "185\n",
      "12\n",
      "15\n",
      "173\n",
      "607\n",
      "72\n",
      "22\n",
      "179\n",
      "44\n",
      "133\n",
      "172\n",
      "203\n",
      "100\n",
      "152\n",
      "141\n",
      "85\n",
      "142\n",
      "31\n",
      "74\n",
      "7\n",
      "65\n",
      "224\n",
      "472\n",
      "156\n",
      "259\n",
      "141\n",
      "343\n",
      "285\n",
      "12\n",
      "100\n",
      "41\n",
      "failed\n",
      "251\n",
      "31\n",
      "156\n",
      "807\n",
      "201\n",
      "817\n",
      "259\n",
      "815\n",
      "71\n",
      "41\n",
      "143\n",
      "227\n",
      "1277\n",
      "205\n",
      "525\n",
      "90\n",
      "454\n",
      "247\n",
      "180\n",
      "174\n",
      "97\n",
      "176\n",
      "216\n",
      "14\n",
      "216\n",
      "21\n",
      "8\n",
      "83\n",
      "137\n",
      "46\n",
      "502\n",
      "633\n",
      "77\n",
      "39\n",
      "132\n",
      "174\n",
      "204\n",
      "531\n",
      "603\n",
      "25\n",
      "93\n",
      "73\n",
      "44\n",
      "178\n",
      "94\n",
      "578\n",
      "132\n",
      "56\n",
      "100\n",
      "256\n",
      "488\n",
      "697\n",
      "256\n",
      "129\n",
      "201\n",
      "25\n",
      "182\n",
      "79\n",
      "192\n",
      "81\n",
      "593\n",
      "497\n",
      "391\n",
      "482\n",
      "131\n",
      "177\n",
      "507\n",
      "79\n",
      "115\n",
      "441\n",
      "482\n",
      "216\n",
      "94\n",
      "374\n",
      "94\n",
      "118\n",
      "122\n",
      "14\n",
      "83\n",
      "196\n",
      "534\n",
      "491\n",
      "74\n",
      "360\n",
      "151\n",
      "108\n",
      "382\n",
      "40\n",
      "174\n",
      "65\n",
      "635\n",
      "177\n",
      "failed\n",
      "322\n",
      "21\n",
      "38\n",
      "52\n",
      "7\n",
      "143\n",
      "88\n",
      "120\n",
      "129\n",
      "162\n",
      "424\n",
      "75\n",
      "90\n",
      "155\n",
      "424\n",
      "404\n",
      "281\n",
      "151\n",
      "failed\n",
      "247\n",
      "223\n",
      "20\n",
      "214\n",
      "151\n",
      "117\n",
      "525\n",
      "100\n",
      "85\n",
      "50\n",
      "258\n",
      "192\n",
      "106\n",
      "632\n",
      "89\n",
      "244\n",
      "106\n",
      "125\n",
      "266\n",
      "45\n",
      "105\n",
      "461\n",
      "106\n",
      "58\n",
      "263\n",
      "486\n",
      "65\n",
      "324\n",
      "204\n",
      "62\n",
      "679\n",
      "530\n",
      "175\n",
      "61\n",
      "360\n",
      "755\n",
      "219\n",
      "226\n",
      "164\n",
      "85\n",
      "555\n",
      "320\n",
      "261\n",
      "192\n",
      "141\n",
      "392\n",
      "510\n",
      "58\n",
      "183\n",
      "330\n",
      "516\n",
      "222\n",
      "154\n",
      "36\n",
      "289\n",
      "263\n",
      "119\n",
      "56\n",
      "30\n",
      "355\n",
      "502\n",
      "178\n",
      "111\n",
      "248\n",
      "543\n",
      "113\n",
      "307\n",
      "188\n",
      "523\n",
      "123\n",
      "48\n",
      "60\n",
      "48\n",
      "101\n",
      "665\n",
      "27\n",
      "39\n",
      "723\n",
      "506\n",
      "28\n",
      "101\n",
      "225\n",
      "101\n",
      "787\n",
      "7\n",
      "500\n",
      "364\n",
      "196\n",
      "129\n",
      "155\n",
      "429\n",
      "488\n",
      "43\n",
      "43\n",
      "970\n",
      "73\n",
      "73\n",
      "34\n",
      "299\n",
      "416\n",
      "113\n",
      "349\n",
      "failed\n",
      "215\n",
      "392\n",
      "30\n",
      "160\n",
      "344\n",
      "97\n",
      "24\n",
      "83\n",
      "1294\n",
      "failed\n",
      "41\n",
      "67\n",
      "14\n",
      "39\n",
      "218\n",
      "83\n",
      "79\n",
      "156\n",
      "62\n",
      "207\n",
      "140\n",
      "16\n",
      "90\n",
      "236\n",
      "308\n",
      "529\n",
      "216\n",
      "297\n",
      "191\n",
      "108\n",
      "254\n",
      "63\n",
      "487\n",
      "32\n",
      "63\n",
      "104\n",
      "30\n",
      "173\n",
      "528\n",
      "1067\n",
      "40\n",
      "519\n",
      "33\n",
      "90\n",
      "194\n",
      "20\n",
      "167\n",
      "46\n",
      "376\n",
      "534\n",
      "315\n",
      "503\n",
      "129\n",
      "552\n",
      "134\n",
      "40\n",
      "542\n",
      "306\n",
      "302\n",
      "254\n",
      "39\n",
      "failed\n",
      "36\n",
      "495\n",
      "77\n",
      "907\n",
      "77\n",
      "113\n",
      "190\n",
      "66\n",
      "130\n",
      "95\n",
      "101\n",
      "42\n",
      "249\n",
      "205\n",
      "118\n",
      "150\n",
      "7\n",
      "94\n",
      "108\n",
      "37\n",
      "134\n",
      "249\n",
      "2428\n",
      "99\n",
      "905\n",
      "146\n",
      "173\n",
      "175\n",
      "120\n",
      "104\n",
      "28\n",
      "172\n",
      "1034\n",
      "248\n",
      "475\n",
      "15\n",
      "60\n",
      "336\n",
      "277\n",
      "299\n",
      "962\n",
      "88\n",
      "72\n",
      "188\n",
      "15\n",
      "191\n",
      "361\n",
      "243\n",
      "298\n",
      "8\n",
      "130\n",
      "385\n",
      "116\n",
      "148\n",
      "142\n",
      "269\n",
      "265\n",
      "833\n",
      "127\n",
      "1157\n",
      "275\n",
      "1391\n",
      "131\n",
      "135\n",
      "260\n",
      "124\n",
      "164\n",
      "74\n",
      "76\n",
      "109\n",
      "17\n",
      "74\n",
      "101\n",
      "20\n",
      "53\n",
      "135\n",
      "106\n",
      "245\n",
      "38\n",
      "72\n",
      "132\n",
      "227\n",
      "311\n",
      "failed\n",
      "164\n",
      "158\n",
      "119\n",
      "481\n",
      "114\n",
      "148\n",
      "232\n",
      "258\n",
      "204\n",
      "197\n",
      "132\n",
      "110\n",
      "82\n",
      "713\n",
      "841\n",
      "436\n",
      "926\n",
      "95\n",
      "156\n",
      "210\n",
      "182\n",
      "521\n",
      "319\n",
      "1028\n",
      "129\n",
      "1604\n",
      "112\n",
      "150\n",
      "171\n",
      "186\n",
      "335\n",
      "163\n",
      "141\n",
      "1554\n",
      "137\n",
      "24\n",
      "158\n",
      "910\n",
      "165\n",
      "794\n",
      "833\n",
      "332\n",
      "53\n",
      "211\n",
      "7\n",
      "269\n",
      "137\n",
      "1083\n",
      "107\n",
      "86\n",
      "69\n",
      "24\n",
      "56\n",
      "88\n",
      "43\n",
      "131\n",
      "149\n",
      "185\n",
      "36\n",
      "50\n",
      "54\n",
      "63\n",
      "117\n",
      "50\n",
      "failed\n",
      "24\n",
      "92\n",
      "201\n",
      "123\n",
      "49\n",
      "250\n",
      "24\n",
      "156\n",
      "30\n",
      "74\n",
      "10\n",
      "159\n",
      "78\n",
      "322\n",
      "30\n",
      "156\n",
      "failed\n",
      "86\n",
      "152\n",
      "93\n",
      "46\n",
      "181\n",
      "117\n",
      "36\n",
      "22\n",
      "166\n",
      "395\n",
      "157\n",
      "192\n",
      "70\n",
      "174\n",
      "198\n",
      "32\n",
      "352\n",
      "54\n",
      "16\n",
      "42\n",
      "174\n",
      "65\n",
      "11\n",
      "42\n",
      "77\n",
      "93\n",
      "176\n",
      "89\n",
      "155\n",
      "138\n",
      "88\n",
      "126\n",
      "155\n",
      "814\n",
      "264\n",
      "115\n",
      "58\n",
      "284\n",
      "41\n",
      "271\n",
      "84\n",
      "1541\n",
      "242\n",
      "471\n",
      "58\n",
      "218\n",
      "344\n",
      "265\n",
      "34\n",
      "141\n",
      "109\n",
      "68\n",
      "20\n",
      "149\n",
      "42\n",
      "516\n",
      "217\n",
      "221\n",
      "25\n",
      "158\n",
      "510\n",
      "172\n",
      "277\n",
      "8\n",
      "208\n",
      "212\n",
      "445\n",
      "120\n",
      "132\n",
      "443\n",
      "78\n",
      "134\n",
      "250\n",
      "61\n",
      "145\n",
      "900\n",
      "171\n",
      "152\n",
      "203\n",
      "124\n",
      "83\n",
      "566\n",
      "289\n",
      "178\n",
      "135\n",
      "1352\n",
      "failed\n",
      "failed\n",
      "93\n",
      "127\n",
      "490\n",
      "257\n",
      "265\n",
      "112\n",
      "120\n",
      "74\n",
      "133\n",
      "127\n",
      "89\n",
      "353\n",
      "83\n",
      "418\n",
      "104\n",
      "99\n",
      "15\n",
      "162\n",
      "216\n",
      "38\n",
      "127\n",
      "349\n",
      "164\n",
      "86\n",
      "176\n",
      "125\n",
      "64\n",
      "223\n",
      "185\n",
      "910\n",
      "failed\n",
      "101\n",
      "117\n",
      "204\n",
      "71\n",
      "117\n",
      "22\n",
      "174\n",
      "106\n",
      "200\n",
      "180\n",
      "64\n",
      "65\n",
      "140\n",
      "156\n",
      "44\n",
      "571\n",
      "295\n",
      "86\n",
      "41\n",
      "108\n"
     ]
    },
    {
     "ename": "KeyboardInterrupt",
     "evalue": "",
     "output_type": "error",
     "traceback": [
      "\u001b[0;31m---------------------------------------------------------------------------\u001b[0m",
      "\u001b[0;31mKeyboardInterrupt\u001b[0m                         Traceback (most recent call last)",
      "\u001b[0;32m<ipython-input-171-5c94385dd909>\u001b[0m in \u001b[0;36m<module>\u001b[0;34m\u001b[0m\n\u001b[1;32m      9\u001b[0m     \u001b[0mpaper\u001b[0m\u001b[0;34m[\u001b[0m\u001b[0;34m'title'\u001b[0m\u001b[0;34m]\u001b[0m \u001b[0;34m=\u001b[0m \u001b[0mpaper2id\u001b[0m\u001b[0;34m[\u001b[0m\u001b[0mpaper\u001b[0m\u001b[0;34m[\u001b[0m\u001b[0;34m'title'\u001b[0m\u001b[0;34m]\u001b[0m\u001b[0;34m]\u001b[0m\u001b[0;34m\u001b[0m\u001b[0;34m\u001b[0m\u001b[0m\n\u001b[1;32m     10\u001b[0m     \u001b[0mpaper\u001b[0m\u001b[0;34m[\u001b[0m\u001b[0;34m'authors'\u001b[0m\u001b[0;34m]\u001b[0m \u001b[0;34m=\u001b[0m \u001b[0;34m[\u001b[0m \u001b[0mauthor2id\u001b[0m\u001b[0;34m[\u001b[0m\u001b[0ma\u001b[0m\u001b[0;34m]\u001b[0m \u001b[0;32mfor\u001b[0m \u001b[0ma\u001b[0m \u001b[0;32min\u001b[0m \u001b[0mpaper\u001b[0m\u001b[0;34m[\u001b[0m\u001b[0;34m'authors'\u001b[0m\u001b[0;34m]\u001b[0m\u001b[0;34m]\u001b[0m\u001b[0;34m\u001b[0m\u001b[0;34m\u001b[0m\u001b[0m\n\u001b[0;32m---> 11\u001b[0;31m     \u001b[0msub_G\u001b[0m\u001b[0;34m,\u001b[0m \u001b[0mhit\u001b[0m\u001b[0;34m,\u001b[0m \u001b[0mpred_cnt\u001b[0m \u001b[0;34m=\u001b[0m \u001b[0mcreate_subgraph\u001b[0m\u001b[0;34m(\u001b[0m\u001b[0mpaper\u001b[0m\u001b[0;34m,\u001b[0m \u001b[0mH\u001b[0m\u001b[0;34m,\u001b[0m \u001b[0mcutoff\u001b[0m\u001b[0;34m=\u001b[0m\u001b[0;36m2\u001b[0m\u001b[0;34m)\u001b[0m\u001b[0;34m\u001b[0m\u001b[0;34m\u001b[0m\u001b[0m\n\u001b[0m\u001b[1;32m     12\u001b[0m \u001b[0;34m\u001b[0m\u001b[0m\n\u001b[1;32m     13\u001b[0m     \u001b[0mhit_stats\u001b[0m\u001b[0;34m[\u001b[0m\u001b[0mhit\u001b[0m\u001b[0;34m]\u001b[0m \u001b[0;34m+=\u001b[0m \u001b[0;36m1\u001b[0m\u001b[0;34m\u001b[0m\u001b[0;34m\u001b[0m\u001b[0m\n",
      "\u001b[0;32m/mnt/workstation/who-wants-to-join/src/aminer2.py\u001b[0m in \u001b[0;36mcreate_subgraph\u001b[0;34m(paper, G, exist_ratio, cutoff)\u001b[0m\n\u001b[1;32m    195\u001b[0m     \u001b[0;32mfor\u001b[0m \u001b[0mnode\u001b[0m \u001b[0;32min\u001b[0m \u001b[0msub_graph_nodes\u001b[0m\u001b[0;34m:\u001b[0m\u001b[0;34m\u001b[0m\u001b[0;34m\u001b[0m\u001b[0m\n\u001b[1;32m    196\u001b[0m         \u001b[0;32mfor\u001b[0m \u001b[0mn\u001b[0m \u001b[0;32min\u001b[0m \u001b[0mG\u001b[0m\u001b[0;34m.\u001b[0m\u001b[0mneighbors\u001b[0m\u001b[0;34m(\u001b[0m\u001b[0mnode\u001b[0m\u001b[0;34m)\u001b[0m\u001b[0;34m:\u001b[0m\u001b[0;34m\u001b[0m\u001b[0;34m\u001b[0m\u001b[0m\n\u001b[0;32m--> 197\u001b[0;31m             \u001b[0;32mif\u001b[0m \u001b[0msub_G\u001b[0m\u001b[0;34m.\u001b[0m\u001b[0mhas_node\u001b[0m\u001b[0;34m(\u001b[0m\u001b[0mnode\u001b[0m\u001b[0;34m)\u001b[0m \u001b[0;32mand\u001b[0m \u001b[0msub_G\u001b[0m\u001b[0;34m.\u001b[0m\u001b[0mhas_node\u001b[0m\u001b[0;34m(\u001b[0m\u001b[0mn\u001b[0m\u001b[0;34m)\u001b[0m\u001b[0;34m:\u001b[0m\u001b[0;34m\u001b[0m\u001b[0;34m\u001b[0m\u001b[0m\n\u001b[0m\u001b[1;32m    198\u001b[0m                 \u001b[0msub_G\u001b[0m\u001b[0;34m.\u001b[0m\u001b[0madd_edge\u001b[0m\u001b[0;34m(\u001b[0m\u001b[0mnode\u001b[0m\u001b[0;34m,\u001b[0m \u001b[0mn\u001b[0m\u001b[0;34m)\u001b[0m\u001b[0;34m\u001b[0m\u001b[0;34m\u001b[0m\u001b[0m\n\u001b[1;32m    199\u001b[0m     \u001b[0;32mreturn\u001b[0m \u001b[0msub_G\u001b[0m\u001b[0;34m,\u001b[0m \u001b[0mhit\u001b[0m\u001b[0;34m,\u001b[0m \u001b[0mpredict_ratio\u001b[0m\u001b[0;34m\u001b[0m\u001b[0;34m\u001b[0m\u001b[0m\n",
      "\u001b[0;32m/mnt/workstation/who-wants-to-join/env/lib/python3.6/site-packages/networkx/classes/graph.py\u001b[0m in \u001b[0;36mhas_node\u001b[0;34m(self, n)\u001b[0m\n\u001b[1;32m    802\u001b[0m         \u001b[0;32mreturn\u001b[0m \u001b[0mlen\u001b[0m\u001b[0;34m(\u001b[0m\u001b[0mself\u001b[0m\u001b[0;34m.\u001b[0m\u001b[0m_node\u001b[0m\u001b[0;34m)\u001b[0m\u001b[0;34m\u001b[0m\u001b[0;34m\u001b[0m\u001b[0m\n\u001b[1;32m    803\u001b[0m \u001b[0;34m\u001b[0m\u001b[0m\n\u001b[0;32m--> 804\u001b[0;31m     \u001b[0;32mdef\u001b[0m \u001b[0mhas_node\u001b[0m\u001b[0;34m(\u001b[0m\u001b[0mself\u001b[0m\u001b[0;34m,\u001b[0m \u001b[0mn\u001b[0m\u001b[0;34m)\u001b[0m\u001b[0;34m:\u001b[0m\u001b[0;34m\u001b[0m\u001b[0;34m\u001b[0m\u001b[0m\n\u001b[0m\u001b[1;32m    805\u001b[0m         \"\"\"Returns True if the graph contains the node n.\n\u001b[1;32m    806\u001b[0m \u001b[0;34m\u001b[0m\u001b[0m\n",
      "\u001b[0;31mKeyboardInterrupt\u001b[0m: "
     ]
    }
   ],
   "source": [
    "hit_stats = defaultdict(int)\n",
    "pred_stats = defaultdict(int)\n",
    "H = G.copy()\n",
    "failed_cnt = 0\n",
    "geometric_data = []\n",
    "sub_graphs = []\n",
    "for idx, paper in enumerate(papers[len(papers)//2:]):\n",
    "    paper = deepcopy(paper)\n",
    "    paper['title'] = paper2id[paper['title']]\n",
    "    paper['authors'] = [ author2id[a] for a in paper['authors']]\n",
    "    sub_G, hit, pred_cnt = create_subgraph(paper, H, cutoff=2)\n",
    "\n",
    "    hit_stats[hit] += 1\n",
    "    pred_stats[pred_cnt] += 1\n",
    "    if sub_G is None:\n",
    "        print('failed')\n",
    "        continue\n",
    "\n",
    "    geometric_data.append(graph2data(sub_G))\n",
    "    sub_graphs.append(sub_G)\n",
    "    print(len(sub_G.nodes))\n",
    "    if idx > 5000:\n",
    "        break\n",
    "\n",
    "    p = paper\n",
    "    p_id = 'p'+str(paper2id[p['title']])\n",
    "    c_id = 'c'+str(conf2id[p['conf']])\n",
    "    for a in p['authors']:\n",
    "        a_id = 'a'+str(author2id[a])\n",
    "        if not H.has_node(p_id):\n",
    "            H.add_node(p_id)\n",
    "#         for n in citation_graph.neighbors(p['index']):\n",
    "#             neighbour_title = index2title[n]\n",
    "#             id_ = paper2id[neighbour_title]\n",
    "#             n_p_id = 'p'+str(id_)\n",
    "#             if not H.has_node(n_p_id):\n",
    "#                 H.add_node(n_p_id)       \n",
    "#             H.add_edge(p_id, n_p_id)\n",
    "        if not H.has_node(a_id):\n",
    "            H.add_node(a_id)\n",
    "        H.add_edge(p_id, a_id)\n",
    "    if not H.has_node(c_id):\n",
    "        H.add_node(c_id)\n",
    "    H.add_edge(c_id, p_id)\n",
    "    "
   ]
  },
  {
   "cell_type": "code",
   "execution_count": 172,
   "metadata": {},
   "outputs": [
    {
     "data": {
      "text/plain": [
       "<matplotlib.axes._subplots.AxesSubplot at 0x7f9d7382b048>"
      ]
     },
     "execution_count": 172,
     "metadata": {},
     "output_type": "execute_result"
    },
    {
     "data": {
      "image/png": "[encoded data removed]",
      "text/plain": [
       "<Figure size 432x288 with 1 Axes>"
      ]
     },
     "metadata": {
      "needs_background": "light"
     },
     "output_type": "display_data"
    }
   ],
   "source": [
    "data = {\n",
    "    'x': [ key for key, _ in hit_stats.items() ],\n",
    "    'y': [ size for _, size in hit_stats.items() ],\n",
    "    'type': ['hit']*len(hit_stats.keys()),\n",
    "}\n",
    "for key,size in pred_stats.items():\n",
    "    data['x'].append(key)\n",
    "    data['y'].append(size)\n",
    "    data['type'].append('exists')\n",
    "sns.lineplot(x='x', y='y', hue='type',data=data)"
   ]
  },
  {
   "cell_type": "code",
   "execution_count": 169,
   "metadata": {},
   "outputs": [
    {
     "name": "stdout",
     "output_type": "stream",
     "text": [
      "tensor([[ 11421,      0,      0],\n",
      "        [479321,      0,      0],\n",
      "        [479320,      0,      0],\n",
      "        [  1135,      0,      0],\n",
      "        [144549,      0,      0],\n",
      "        [488076,      0,      0],\n",
      "        [488078,      0,      0],\n",
      "        [113595,      0,      0],\n",
      "        [ 40707,      0,      0],\n",
      "        [406504,      0,      0],\n",
      "        [ 40708,      0,      0],\n",
      "        [290560,      0,      0],\n",
      "        [563840,      0,      0],\n",
      "        [279369,      0,      0],\n",
      "        [406505,      0,      0],\n",
      "        [ 66559,      0,      0],\n",
      "        [406503,      0,      0],\n",
      "        [ 40705,      0,      0],\n",
      "        [488077,      0,      0],\n",
      "        [ 40706,      0,      0],\n",
      "        [ 66478,      0,      0],\n",
      "        [ 40704,      0,      0],\n",
      "        [ 40709,      0,      0],\n",
      "        [406502,      0,      0],\n",
      "        [406501,      0,      0]])\n"
     ]
    }
   ],
   "source": [
    "data_idx = 4\n",
    "print(geometric_data[data_idx].x[geometric_data[data_idx].x[:, 2] == 0])"
   ]
  },
  {
   "cell_type": "code",
   "execution_count": 165,
   "metadata": {},
   "outputs": [
    {
     "name": "stdout",
     "output_type": "stream",
     "text": [
      "['p1058897', 'p1057571', 'p1060872', 'p85247', 'p1061704', 'p1058510', 'p1499815', 'p1060305', 'p1321945', 'p1057898', 'p1060369', 'p127355', 'p127690', 'p772761', 'p771498', 'p772682', 'p772799', 'p85214', 'p1057203', 'p1059547', 'p1503879', 'p1504164', 'p1058547', 'p1060660', 'p1058162', 'p1057679', 'p1504889', 'p1061123', 'p127820', 'p1060764', 'p127893', 'p1500570', 'p1058422', 'p1061199', 'p1061386', 'p186867', 'p576998', 'p1501842', 'p1500845', 'p1501079', 'p1059115', 'p1058419', 'p1363941', 'p1057787', 'p1060362', 'p1057962', 'p1060212', 'p1058595', 'p772191', 'p1499952', 'p1058526', 'p1059149', 'p1061628', 'p1058821', 'p1058425', 'p622475', 'p85300', 'p1057313', 'p1060217', 'p1059081', 'p1059431', 'p1499734', 'p1059425', 'p1059147', 'p1058745', 'p1061459', 'p1057742', 'p1059649', 'p1061198', 'p1061964', 'p1502323', 'p1057860', 'p1060635', 'p1061698', 'p1057419', 'p1059104', 'p1504008', 'p1058015', 'p1061525', 'p1497521', 'p1505201', 'p85217', 'p85365', 'p771962', 'p771057', 'p48948', 'p772411', 'p1060926', 'p1499308', 'p1501339', 'p85226', 'p1059277', 'p1060028', 'p1502326', 'p1058113', 'p1059167', 'p85196', 'p1057044', 'p48811', 'p1059188', 'p1060457', 'p1060721', 'p1061078', 'p85281', 'p1501326', 'p48838', 'p1059296', 'p1061613', 'p1555121', 'p1060613', 'p771164', 'p1061250', 'p1498087', 'p1498799', 'p1061142', 'p85373', 'p1058726', 'p1061519', 'p1884009', 'p1061606', 'p1058357', 'p1061754', 'p1503004', 'p1058891', 'p1061965', 'p85416', 'p1058367', 'p1056914', 'p1060692', 'p1060807', 'p1061514', 'p1061561', 'p1057641', 'p1061292', 'p1499842', 'p1056758', 'p1503173', 'p1059901', 'p1501509', 'p1505338', 'p1499232', 'p1060665', 'p1504470', 'p1057427', 'p1059599', 'p1498791', 'p1058086', 'p1057279', 'p1061680', 'p1058942', 'p1061042', 'p1058119', 'p1500984', 'p1061612', 'p1498735', 'p164479', 'p1056905', 'p1059111', 'p1056933', 'p1056834', 'p1057654', 'p1884062', 'p1059130', 'p127287', 'p771991', 'p1059103', 'p1061326', 'p1061291', 'p1058210', 'p1061230', 'p1699723', 'p1504785', 'p1058750', 'p772297', 'p1059297', 'p1061097', 'p772719', 'p1059500', 'p1505695', 'p1060906', 'p48843', 'p1056512', 'p1503310', 'p1057345', 'p1057564', 'p1503678', 'p1500976', 'p1505721', 'p1057675', 'p1061773', 'p1502524', 'p1502211', 'p1060505', 'p1748421', 'p1883998', 'p1061929', 'p1059924', 'p1056600', 'p1060580', 'p48618', 'p1058417', 'p1059122', 'p1059755', 'p1501654', 'p1504673', 'p1057444', 'p1504794', 'p1057287', 'p1057974', 'p1057307', 'p1058261', 'p1059672', 'p1060706', 'p771011', 'p1057246', 'p1056807', 'p1057727', 'p1057909', 'p1060554', 'p771354', 'p1061391', 'p1057916', 'p1061717', 'p1060979', 'p1057894', 'p1061637', 'p85179', 'p1058432', 'p1498412', 'p1059788', 'p48742', 'p1061783', 'p1059030', 'p1504861', 'p1505441', 'p1061711', 'p85206', 'p1061570', 'p1061252', 'p1061423', 'p1501655', 'p1061120', 'p1058164', 'p1059873', 'p85252', 'p1447023', 'p1056739', 'p1501479', 'p127621', 'p1058474', 'p48784', 'p1498789', 'p1057067', 'p1500246', 'p1823551', 'p1061523', 'p1061081', 'p1061879', 'p772263', 'p1056806', 'p294640', 'p1060199', 'p1057167', 'p771719', 'p1058608', 'p1501259', 'p1058259', 'p1056640', 'p1056912', 'p1059067', 'p1061703', 'p1059165', 'p1502310', 'p1060098', 'p1060280', 'p1058617', 'p1502081', 'p1057986', 'p1498538', 'p1501998', 'p1058532', 'p1060136', 'p48646', 'p772368', 'p1059298', 'p1061268', 'p1059610', 'p1499310', 'p1058571', 'p1056793', 'p1061312', 'p1122867', 'p1060862', 'p1447040', 'p1060171', 'p1059225', 'p1060404', 'p1499953', 'p773098', 'p771462', 'p1061509', 'p1500066', 'p1057112', 'p1058765', 'p1059679', 'p1056794', 'p1061260', 'p85434', 'p127302', 'p1057453', 'p1061504', 'p1059048', 'p1060401', 'p85383', 'p1061014', 'p1059039', 'p1061961', 'p1061376', 'p1503542', 'p1057937', 'p1060718', 'p1500842', 'p1504319', 'p1506012', 'p772790', 'p1059367', 'p1058728', 'p772742', 'p85419', 'p1058523', 'p1060413', 'p1059466', 'p1821526', 'p1502820', 'p1058220', 'p1058536', 'p771893', 'p771653', 'p1061595', 'p1503228', 'p1505391', 'p772750', 'p1057385', 'p1056637', 'p1060824', 'p1061155', 'p85219', 'p1498419', 'p85271', 'p1057681', 'p1058379', 'p1061047', 'p1503870', 'p1060269', 'p1059604', 'p1061114', 'p1061229', 'p1499337', 'p1060768', 'p1059179', 'p1059411', 'p1060308', 'p1060788', 'p1061056', 'p1061741', 'p1056523', 'p1502101', 'p1498939', 'p1502333', 'p771375', 'p1057056', 'p1505554', 'p771082', 'p1502883', 'p1060336', 'p1060640', 'p1060874', 'p1498407', 'p1498893', 'p48938', 'p127340', 'p1503468', 'p1060865', 'p1060720', 'p85360', 'p770928', 'p61287', 'p1057938', 'p1058554', 'p1060844', 'p1057780', 'p85319', 'p1057340', 'p1059374', 'p1060765', 'p1061460', 'p1498724', 'p1060092', 'p1057048', 'p1060016', 'p1060913', 'p772455', 'p1501844', 'p1506004', 'p1058581', 'p1057554', 'p85435', 'p1058709', 'p1059303', 'p1503676', 'p1058212', 'p1056839', 'p1060996', 'p771658', 'p1060326', 'p1060843', 'p1057497', 'p1061333', 'p1058034', 'p1499043', 'p1057870', 'p1061079', 'p1057583', 'p1500988', 'p85231', 'p1502602', 'p1058344', 'p901043', 'p1059164', 'p1505841', 'p1059195', 'p1058627', 'p48905', 'p1060186', 'p1501617', 'p1060731', 'p1058472', 'p403139', 'p1061408', 'p1506002', 'p85417', 'p1056603', 'p1059954', 'p1060220', 'p1504000', 'p1058947', 'p1503949', 'p1059628', 'p1056833', 'p1503487', 'p1060819', 'p1497517', 'p1059854', 'p1059868', 'p1059059', 'p1061532', 'p1061549', 'p1060071', 'p85439', 'p1057043', 'p1501892', 'p1057949', 'p1058906', 'p1060705', 'p1058502', 'p1059488', 'p1059395', 'p1059576', 'p1499019', 'p1503075', 'p1497853', 'p1059254', 'p1499140', 'p1058852', 'p1058662', 'p1056651', 'p1060120', 'p1058182', 'p85314', 'p1059460', 'p85379', 'p1059942', 'p1498567', 'p127457', 'p1059376', 'p1499778', 'p1504781', 'p1057858', 'p1060042', 'p85312', 'p1059084', 'p1059107', 'p1057584', 'p1058347', 'p1057207', 'p1060166', 'p1061055', 'p1502197', 'p1498393', 'p1057759', 'p1061263', 'p1058452', 'p1058880', 'p772932', 'p85228', 'p85289', 'p1057664', 'p1058221', 'p1058772', 'p1059430', 'p1060132', 'p1056858', 'p1502065', 'p1059713', 'p772162', 'p1060574', 'p1057511', 'p1060818', 'p1505263', 'p1497670', 'p1058779', 'p1059688', 'p127625', 'p1061534', 'p1058451', 'p1058524', 'p1060809', 'p48927', 'p772408', 'p1059564', 'p1057458', 'p1058435', 'p1057166', 'p1059673', 'p1497401', 'p1059375', 'p294712', 'p1497559', 'p1498628', 'p1060766', 'p1059331', 'p895869', 'a11421', 'p1056908', 'p1056960', 'p1057092', 'p1057500', 'p1058433', 'p1061405', 'p1505977', 'p1059186', 'p1057999', 'a479321', 'p1061190', 'p1504449', 'p1058965', 'p1058100', 'p1058361', 'p1503904', 'p1056554', 'p1816923', 'p1504521', 'p1057405', 'p1059154', 'p773019', 'p48750', 'p296906', 'p1057513', 'p85290', 'p1060459', 'p773078', 'p1059665', 'p772504', 'p1058825', 'p1058926', 'p1056881', 'p772428', 'p1059637', 'p1498213', 'p127673', 'p1059512', 'p1056755', 'p48776', 'p294425', 'p1499821', 'p1498011', 'p1060515', 'p1060798', 'p1059646', 'p1056829', 'p1057602', 'p1498507', 'p772587', 'p85200', 'p1501590', 'p1060342', 'p1061163', 'p1059393', 'p1057505', 'p1057276', 'p772952', 'p1497335', 'p1056541', 'p85232', 'p1501057', 'p772199', 'p1057634', 'p1058386', 'p1617283', 'p1059733', 'p1060145', 'p48686', 'p1060213', 'p772983', 'p1498873', 'p1059056', 'p1058903', 'p1058137', 'p1058219', 'p1060233', 'p1503471', 'p1497988', 'p1062009', 'p1058518', 'p1059407', 'p1502909', 'p1058620', 'p1057064', 'p1498706', 'p1057904', 'p1447037', 'p1060527', 'p1498944', 'p1058178', 'p1059584', 'p1059432', 'p1060018', 'p1061236', 'p1499231', 'p1505403', 'p1058392', 'p127609', 'p1059699', 'p1057435', 'p1060650', 'p1505570', 'p1058302', 'p1059364', 'p1061811', 'p1056678', 'p1059027', 'p1059848', 'p127933', 'p1057663', 'p1060734', 'p1061051', 'p1056935', 'p256376', 'p1060248', 'p1061444', 'p1060048', 'p772062', 'p1056624', 'p771111', 'p85238', 'p1060238', 'p1061126', 'p1058461', 'p1058082', 'p1061681', 'p1059313', 'p1056605', 'p1062034', 'p1059516', 'p1503953', 'p1061580', 'p1059549', 'p1058824', 'p1059086', 'p1061745', 'p1058024', 'p1057445', 'p1447139', 'p1504648', 'p85273', 'p772773', 'p1061394', 'p1060027', 'p85490', 'p1500497', 'p1058002', 'p771186', 'p1056981', 'p1058019', 'p1056768', 'p1059871', 'p1056609', 'p1061365', 'p1061770', 'p1059607', 'p1058733', 'p1061166', 'p1059888', 'p1058894', 'p48592', 'p1057072', 'p85329', 'p1060011', 'p1061956', 'p1500485', 'p1058266', 'p1502244', 'p1056757', 'p1060004', 'p85185', 'p1499609', 'p1498937', 'p1060916', 'p1057052', 'p1058497', 'p1058799', 'p1057903', 'p1505935', 'p1058291', 'p771821', 'p85251', 'p1061104', 'p1505978', 'p1060762', 'p1060410', 'p1500213', 'p1502291', 'p85205', 'p1057069', 'p1056819', 'p85306', 'p1056695', 'p1057223', 'p1058079', 'p1060803', 'a479320', 'p85389', 'p1059176', 'p1057170', 'p1062019', 'p771838', 'p1059146', 'p85307', 'p1056630', 'p771845', 'p1056741', 'p1057625', 'p1060751', 'p1059266', 'p772235', 'p1059308', 'p1061907', 'p1499252', 'p1059064', 'p1059294', 'p1059958', 'p1060531', 'p1058031', 'p1058021', 'p1061400', 'p127659', 'p1056506', 'p1498973', 'p1059917', 'p1503313', 'p1060904', 'p1884028', 'p127576', 'p1056753', 'p1060984', 'p1058921', 'p770866', 'p1058205', 'p1058438', 'p1061406', 'p1058222', 'p1497420', 'p48628', 'p1056537', 'p1501632', 'p1505258', 'p1059284', 'p1502988', 'p1061943', 'p1057851', 'p1058616', 'p1500271', 'p1058485', 'p1058480', 'p1056957', 'p1059204', 'p1059241', 'p1059559', 'a1135', 'p1498745', 'p1504414', 'p1057869', 'p1061218', 'p1505831', 'p1498337', 'p1061924', 'p127680', 'p1059964', 'p85291', 'p48856', 'p1056795', 'p1060261', 'p1499718', 'p1499004', 'p85276', 'p1061479', 'p1061255', 'p1503237', 'p1061332', 'p1059061', 'p1059312', 'p1061737', 'p1499804', 'p1057829', 'p127343', 'p1061842', 'p1059155', 'p1059730', 'p1499447', 'p1497393', 'p85363', 'p1059236', 'p1060440', 'p1061410', 'p1498595', 'p1500763', 'p770978', 'p1502827', 'p1057066', 'p771476', 'p772557', 'p1447061', 'p1501160', 'p1056900', 'p1057672', 'p1060002', 'p1060743', 'p1057967', 'p1058515', 'p770969', 'p85207', 'p1447128', 'p1499597', 'a144549', 'p1058664', 'p1062020', 'p1057655', 'p1503649', 'p1060415', 'p85414', 'p1060924', 'p1497903', 'p1058568', 'p1497341', 'p1056862', 'p85357', 'p1060541', 'p164491', 'p1056668', 'p1059545', 'p1057528', 'p1060443', 'p1059863', 'p1504496', 'p1499928', 'p1057416', 'p1060493', 'p1498868', 'p1060544', 'p573466', 'p1499481', 'p1500957', 'p1503846', 'p1059569', 'p1060003', 'p1504477', 'p1060572', 'p1501058', 'p1058807', 'p1059082', 'p1060747', 'p1057171', 'p1058359', 'p1699697', 'p1504403', 'p1056976', 'p1057487', 'p1058090', 'p771641', 'p1057693', 'p1501719', 'p771284', 'p1057219', 'p1057011', 'p1058169', 'p1501146', 'p1498605', 'p1057721', 'p1499687', 'p1501718', 'p1502893', 'p1498066', 'p1884031', 'p1056896', 'p1057370', 'p1059323', 'p1059893', 'p85244', 'p1058962', 'p1059902', 'p1058416', 'p1060526', 'p1057669', 'p1060084', 'a488076', 'p1058035', 'p164493', 'p1057371', 'p1505363', 'p771499', 'p772649', 'p1059267', 'p1498616', 'p770902', 'p1061438', 'p85378', 'p1503565', 'p1059414', 'p1504026', 'p224348', 'p1061439', 'p1060689', 'p772907', 'p1501439', 'p296881', 'p1497451', 'p1503107', 'p1059441', 'p1505148', 'p772567', 'p1058482', 'p1057701', 'p1058954', 'p1059087', 'p1505155', 'p1061271', 'p1057784', 'p1058352', 'p1059895', 'p1500544', 'p1501357', 'p1056763', 'p1059477', 'p1061083', 'p1058848', 'p1061925', 'p15289', 'p1498510', 'p1500453', 'p1060368', 'p771548', 'p1059562', 'p1057351', 'p1060239', 'p1060907', 'p1061834', 'p4624', 'p772361', 'p772610', 'p1502269', 'p770854', 'p771664', 'p1500513', 'p770938', 'p1058098', 'p1061930', 'p1058872', 'p1504950', 'p1058211', 'p1058624', 'p1061938', 'p1502896', 'p771985', 'p772262', 'p1059016', 'p1059077', 'p1060461', 'p1060829', 'p1061373', 'p164485', 'p1059197', 'p1060726', 'p1057393', 'p771014', 'p1060015', 'p1060616', 'p1500766', 'p1503668', 'p1058172', 'p1501619', 'p1501588', 'p1498689', 'p1058885', 'p1059114', 'p1056714', 'p1060627', 'p1061413', 'p1057755', 'p1058427', 'p772605', 'p1057717', 'p1059475', 'p1060066', 'p1060310', 'p1059421', 'p1883996', 'p1056601', 'p1056666', 'p1057873', 'p1058413', 'p1059732', 'p1057722', 'p85186', 'p1058043', 'p771593', 'p1057560', 'p1061249', 'p1500525', 'p1059304', 'p1062012', 'p1504825', 'p1060324', 'p1056939', 'p1504789', 'p772974', 'p85192', 'p1499489', 'p1056749', 'p1504874', 'p1057321', 'p1061856', 'p1498916', 'p127681', 'p1058112', 'p1059232', 'p1500558', 'p1061630', 'p1058056', 'p1060263', 'p1059368', 'p85203', 'p1059141', 'p1060364', 'p1057689', 'p1062005', 'p1500471', 'p1501239', 'p1059860', 'p127370', 'p1059239', 'p1059766', 'p1058669', 'p1059217', 'p1498527', 'p1059201', 'p1061502', 'p1504444', 'p1061571', 'p1504017', 'p1503091', 'p1057432', 'p1058346', 'p1057414', 'p1060378', 'p1062021', 'p1061857', 'p1505866', 'p1057788', 'p1058842', 'p1501408', 'p1503648', 'p85380', 'p1504050', 'p1056562', 'p1059270', 'p1059971', 'p1057261', 'p1062030', 'p48958', 'p1058663', 'p1058181', 'p85176', 'p772089', 'p1058458', 'p85305', 'p1503431', 'p772664', 'p1060135', 'p770879', 'p1060569', 'p1061208', 'p1061324', 'p1061786', 'p1501045', 'p1498664', 'p1503776', 'p1060876', 'p1498550', 'p1059855', 'p1061575', 'p1056828', 'p1058243', 'p1057912', 'p1504866', 'p1504396', 'p1501496', 'p1058565', 'p1060525', 'p1061810', 'p1057896', 'p1059709', 'p1057778', 'p85201', 'p1057451', 'p1058089', 'p1061348', 'p1058273', 'p1056705', 'p1061713', 'p1059556', 'p1057801', 'p1503330', 'p1504434', 'p1057635', 'p127516', 'p1500970', 'p1056577', 'p1057489', 'p1060636', 'p1504714', 'p85337', 'p127319', 'p1500562', 'p1498639', 'p48928', 'p1057747', 'p1060139', 'p1061690', 'p1058006', 'p127640', 'p1060043', 'p1057076', 'p773006', 'p771793', 'p1060283', 'p1057059', 'p1060116', 'p1502660', 'p1057186', 'p1058683', 'p1060605', 'p1057004', 'p85262', 'p1056973', 'p127558', 'p164504', 'p1498119', 'p1059171', 'p1059177', 'p1060566', 'p1498709', 'p85304', 'p1059999', 'p1499723', 'p771891', 'p1497741', 'p1060019', 'p772857', 'p1060929', 'p1057492', 'p1061828', 'p201374', 'p1058643', 'p1059328', 'p1059276', 'p1059878', 'p1057376', 'p1056672', 'p1058199', 'p1061486', 'p1447184', 'p127520', 'p1500579', 'p1058065', 'p1060214', 'p1500431', 'p1501474', 'p1504848', 'p1056903', 'p1060625', 'p1057515', 'p1059124', 'p1060651', 'p1059529', 'p772459', 'p1058754', 'p1499969', 'p85194', 'p1058534', 'p1498688', 'p1059946', 'p1058561', 'p85409', 'p1061032', 'p1062040', 'p1058777', 'p1059879', 'p1058141', 'p772596', 'p1060154', 'p1061241', 'p1057946', 'p1058839', 'p85406', 'p1058017', 'p1057024', 'p1058611', 'p1059447', 'p127396', 'p1057240', 'p1504945', 'p1061106', 'p1498362', 'p1500031', 'p1061934', 'p1504844', 'p48815', 'p1059837', 'p1058085', 'p1059841', 'p1061621', 'p1502312', 'p1059624', 'p1501946', 'p402438', 'p1503369', 'p1503893', 'p1060149', 'p1057411', 'p1057957', 'p1061147', 'p1497959', 'p1501255', 'p1505299', 'p1056519', 'p1498483', 'p1061826', 'p1062024', 'p1061888', 'p1060688', 'p1058196', 'p1061652', 'p1499761', 'p1505737', 'p85420', 'p1061085', 'p1057410', 'p1057764', 'p1057121', 'p85422', 'p85210', 'p1058738', 'p1060307', 'p1504835', 'p1058661', 'p772687', 'p771104', 'p1061993', 'p1501085', 'p1061498', 'p1498902', 'p1059234', 'p1501230', 'p1059287', 'p127598', 'p1060381', 'p1060543', 'p1061772', 'p1060040', 'p1061872', 'p1057449', 'p1497658', 'p1502142', 'p1057397', 'p1058071', 'p1058670', 'p1061912', 'p1060045', 'p1497737', 'p1061545', 'p85236', 'p1058144', 'p1060863', 'p1500302', 'p1499704', 'p1058186', 'p772172', 'p1060487', 'p85265', 'p1059245', 'p1061141', 'p1505803', 'p1505101', 'p1501624', 'p1057824', 'p1497929', 'p1058513', 'p1061794', 'p127879', 'p1498146', 'p1056771', 'p1501136', 'p1059645', 'p1061354', 'p1060285', 'p1061914', 'p1502495', 'p1502831', 'p127360', 'p1501081', 'p1056555', 'p1058423', 'p1061594', 'p1059548', 'p1056544', 'p1058801', 'p1059748', 'p127825', 'p1057695', 'p1505399', 'p1057520', 'p1061248', 'p1058816', 'p1061222', 'p1056594', 'p1504313', 'p48649', 'a488078', 'p1502462', 'p1059100', 'p1058876', 'p1500865', 'p1503722', 'p1502836', 'p1058254', 'p1501537', 'p1057885', 'p48669', 'p1057723', 'p1058883', 'p1060905', 'p1503030', 'p1500247', 'p772629', 'p1057055', 'p1061219', 'p1061692', 'p127447', 'p48810', 'p1058749', 'p1058671', 'p1058439', 'p1059191', 'p1056865', 'p1060425', 'p1061355', 'p1061946', 'p1503646', 'p1057542', 'p48702', 'p770958', 'p1058297', 'p1501268', 'p1505956', 'p1884058', 'p1056614', 'p1059687', 'p1503500', 'p1057779', 'p1501333', 'p1060959', 'p1056917', 'p1057328', 'p1057375', 'p773024', 'p1060868', 'p1061132', 'p1058018', 'p1061716', 'p1058246', 'p1059070', 'p1057302', 'p1059957', 'p1056531', 'p1061667', 'p1498504', 'p1059052', 'p1057628', 'p1059930', 'p1500151', 'p1061059', 'p1060197', 'p1060075', 'p1498237', 'p1505022', 'p1056696', 'p1061497', 'p1058847', 'p1060295', 'p1057408', 'p1057565', 'p1060822', 'p1502127', 'p1060887', 'p1505656', 'p85339', 'p771886', 'p1060021', 'p1060946', 'p1059703', 'p85237', 'p1058928', 'p1059129', 'p1059137', 'p1056904', 'p1057137', 'p1057315', 'p1059269', 'p1059482', 'p1059621', 'p1059853', 'p1060315', 'p1060522', 'p1498283', 'p1501513', 'p1504876', 'p1505846', 'p1056547', 'p1058819', 'p1503327', 'p1060885', 'p1059889', 'p772400', 'p1061538', 'p1058706', 'p85395', 'p1504047', 'p772103', 'p164494', 'p1059413', 'p127757', 'p1505015', 'p1505102', 'p1057060', 'p1058778', 'p1057350', 'p1500488', 'p1057960', 'p1501271', 'p1060800', 'p1061367', 'p1058328', 'p1504380', 'p1058153', 'p1505453', 'p1057853', 'p127845', 'p1056902', 'p1058511', 'p1501870', 'p1498370', 'p1058285', 'p1503217', 'p1505205', 'p1057724', 'p1057976', 'p1057160', 'p771402', 'p1056947', 'p1503993', 'p1056909', 'p1060684', 'p85465', 'p773067', 'p1501072', 'p85362', 'p1060206', 'p186881', 'p1500029', 'p1056814', 'p1057872', 'p1059983', 'p1059814', 'p1057151', 'p1059299', 'p1058249', 'p1056670', 'p1060059', 'p1058000', 'p1059573', 'p1060891', 'p1499227', 'p1503059', 'p1060716', 'p1058271', 'p378724', 'p773035', 'p1060372', 'p1061868', 'p1059295', 'p1061364', 'p1057081', 'p1060657', 'p1059260', 'p1057105', 'p1497533', 'p772104', 'p1058191', 'p1057400', 'p1058228', 'p1505972', 'p1058130', 'p1059261', 'p1059496', 'p1058757', 'p1060763', 'p1059058', 'p1059623', 'p1502571', 'p1061779', 'p1500946', 'p1061316', 'p772465', 'p772876', 'p1500937', 'p1060123', 'p1060224', 'p1058586', 'p1057899', 'p1058907', 'p1500173', 'p1057119', 'p1059046', 'p1059189', 'p1059489', 'p1058604', 'p1059169', 'p1060314', 'p925799', 'p1500405', 'p1058012', 'p1059486', 'p1061119', 'p1505060', 'p1059747', 'p1060752', 'p1057038', 'p1061109', 'p85233', 'p85333', 'p1057951', 'p1058870', 'p48752', 'p1059424', 'p1056879', 'p1056886', 'p1060264', 'p1500958', 'p1056980', 'p1884056', 'p127769', 'p1505402', 'p771289', 'p1059406', 'p1060939', 'p1061830', 'p127907', 'p1058069', 'p1499133', 'p1057789', 'p1058292', 'p1060701', 'p1500316', 'p1503272', 'p772898', 'p1498761', 'p1501927', 'p1058440', 'p1059829', 'p476912', 'p771883', 'p1061242', 'p1498863', 'p1501908', 'p771829', 'p1061189', 'p1057104', 'p1059404', 'p1618081', 'p1058026', 'p1060047', 'p1057522', 'p1502852', 'p1505719', 'p1498803', 'p85355', 'p1497629', 'p1060896', 'p1498901', 'p85239', 'p1056931', 'p1499032', 'p1499644', 'p85354', 'p773068', 'p1059881', 'p1059192', 'p1057591', 'p1058431', 'p1058495', 'p1501631', 'p1061781', 'p1505458', 'p1058623', 'p1061591', 'p127912', 'p1058815', 'p1505769', 'p1057660', 'p1059467', 'p1058675', 'p1505398', 'p1058068', 'p1502766', 'p1060350', 'p1057236', 'p1503925', 'p1059037', 'p1058437', 'p1059282', 'p1060518', 'p1500644', 'p1504409', 'p127473', 'p1060465', 'p1057255', 'p1058788', 'p85433', 'p1500754', 'p771098', 'p1497421', 'p1060426', 'p771591', 'p771737', 'p1500872', 'p1505726', 'p1057763', 'p1058507', 'p1447060', 'p1060366', 'p1505942', 'p1058902', 'p1058742', 'p1056676', 'p1504280', 'p1498870', 'p1502255', 'p1504259', 'p1059728', 'p1500109', 'p85370', 'p1056798', 'p1059959', 'p1503788', 'p1504404', 'p48957', 'a113595', 'p1060289', 'p1504522', 'p1056813', 'p1059790', 'p85387', 'p1057136', 'p1061695', 'p1059040', 'p1497888', 'p772244', 'p1059347', 'p1058116', 'p1058818', 'p1501604', 'p1058886', 'p1061753', 'p1056979', 'p771565', 'p1500162', 'p85341', 'p1058963', 'p1060529', 'p127304', 'p1058374', 'p1499595', 'p772340', 'p963879', 'p1499086', 'p48707', 'p1060486', 'p1505353', 'p1505622', 'p1499820', 'p1060160', 'p1499457', 'p1060108', 'p1058682', 'p1505295', 'p1059507', 'p1059505', 'p85311', 'p1503172', 'p1061689', 'p772286', 'p85230', 'p1447163', 'p771022', 'p1057178', 'p127704', 'p772114', 'p1497883', 'p1499238', 'p1058253', 'p1057019', 'p1501798', 'p250261', 'p1060026', 'p1498935', 'p1503254', 'p1500782', 'p1505328', 'p1499745', 'p1060427', 'p1059975', 'p127328', 'p1504132', 'p1061156', 'p1504175', 'p1060247', 'p771435', 'p1057232', 'p85293', 'p1060955', 'p1057182', 'p1061496', 'p1059148', 'p1061063', 'p1060781', 'p771154', 'p772609', 'p1058937', 'p1503735', 'p85199', 'c681', 'p1061565', 'p1059717', 'p1500020', 'p1057070', 'p1058118', 'p1059423', 'p1060700', 'p1056779', 'p1057491', 'p127902', 'p1498534', 'p85418', 'p1058473', 'p1059722', 'p85412', 'p1060161', 'p1060722', 'p771076', 'p1501932', 'p1058061', 'p1956187', 'p1059638', 'p1061213', 'p1505509', 'p1502678', 'p1059275', 'p1499295', 'p1501541', 'p1497529', 'p1499066', 'p1497947', 'p1058040', 'p1498278', 'p1060598', 'p1501426', 'p85445', 'p1057761', 'p85429', 'p771969', 'p773020', 'p1058723', 'p1061755', 'p1059579', 'p85444', 'p1498243', 'p1059594', 'p770945', 'p1058047', 'p1059246', 'p1056867', 'p1061510', 'p127562', 'p1057568', 'p1503612', 'p1499818', 'p771657', 'p1061798', 'p1501898', 'p1056984', 'p772548', 'p127601', 'p1057378', 'p85359', 'p1057381', 'p1058775', 'p1061982', 'p1501564', 'p1505516', 'p1058441', 'p1056723', 'p1501349', 'p85353', 'p1058835', 'p1060033', 'p127551', 'p1057298', 'p1058720', 'p1061922', 'p771428', 'p1058734', 'p1502983', 'p1057041', 'p1057089', 'p1057569', 'p1500018', 'p1504375', 'p1058097', 'p1056831', 'p1057688', 'p1059504', 'p1060037', 'p1060299', 'p901042', 'p1057062', 'p1057891', 'p1059484', 'p1061778', 'p1061808', 'p1884044', 'p48870', 'p1060164', 'p1057101', 'p1061359', 'p1056517', 'p127787', 'p1499622', 'p1058073', 'p85298', 'p828377', 'p772749', 'p1058539', 'p772936', 'p1061200', 'p1776689', 'p85173', 'p1504219', 'p1502188', 'p1059237', 'p85302', 'p1061201', 'p1503933', 'p1059390', 'p1057210', 'p1060243', 'p1060914', 'p1504782', 'p1498063', 'p1059694', 'p1060601', 'p1057017', 'p1056988', 'p1061449', 'p1061865', 'p1057616', 'p85277', 'p1057106', 'p1057152', 'p771250', 'p1057997', 'p1059163', 'p1056502', 'p1059265', 'p1060455', 'p1060733', 'p1056738', 'p771333', 'p1505196', 'p1058553', 'p127628', 'p1058275', 'p771942', 'p1057016', 'p1060842', 'p772026', 'p1060232', 'p1060278', 'p1497696', 'p48632', 'p1061487', 'p85216', 'p1059729', 'p1057771', 'p1058450', 'p770888', 'p1617570', 'p1058335', 'p1058792', 'p1058727', 'p85349', 'p1061937', 'p1502400', 'p85229', 'p1056887', 'p1060231', 'p1060438', 'p1503038', 'p1057243', 'p1056848', 'p1498094', 'p1502019', 'p1056911', 'p1057651', 'p1060049', 'p1058681', 'p1058426', 'p1058176', 'p1058660', 'p1058857', 'p1059224', 'p85443', 'p1056674', 'p1060110', 'p1061039', 'p1061474', 'p1497842', 'p1505933', 'p1505860', 'p1505017', 'p48587', 'p1501358', 'p1059978', 'p1061827', 'p1059840', 'p772669', 'p1057697', 'p1057812', 'p772410', 'p1058133', 'p48715', 'p1058968', 'p127737', 'p1061833', 'p1057086', 'p1504859', 'p772270', 'p1058245', 'p1059540', 'p1059102', 'p1060077', 'p1061159', 'p1060191', 'p1884072', 'p1057546', 'p1061859', 'p1500742', 'p1058194', 'p1059811', 'p1061804', 'p1504324', 'p1060143', 'p1059944', 'p1058573', 'p1061257', 'p1061329', 'p771448', 'p1061276', 'p1061578', 'p1498970', 'p1060471', 'p1059656', 'p1058599', 'p1060669', 'p1061270', 'p1059355', 'p1059314', 'p1060204', 'p773036', 'p1057811', 'p1060125', 'p85240', 'p1060968', 'p1209806', 'p127855', 'p1498299', 'a40707', 'p1501452', 'p1060078', 'p1057395', 'p1061881', 'p1503847', 'p1057021', 'p1506078', 'p1061517', 'p1504194', 'p1498894', 'p1059723', 'p1057361', 'p773062', 'p1956592', 'p1057636', 'p1061693', 'p1500516', 'p1059356', 'p1060557', 'p1501202', 'p1058992', 'p1059053', 'p1057045', 'p1060517', 'p1061598', 'p85425', 'p1061555', 'p1884066', 'p1061966', 'p48787', 'p85288', 'p1058896', 'p1503036', 'p1060422', 'p127827', 'p1059380', 'p1060332', 'p1060599', 'p1497321', 'p48594', 'p1057525', 'p1498859', 'p1499204', 'p1500088', 'p1499002', 'p1060867', 'p1499623', 'p1057543', 'p127518', 'p1060656', 'p1061892', 'p1060816', 'p1505545', 'p771705', 'p1057552', 'p1501226', 'p1498320', 'p85413', 'p1056585', 'p48630', 'p1059647', 'p1504988', 'p1061220', 'p1061529', 'p1498556', 'p1057558', 'p1059706', 'p1501273', 'p1060183', 'p1057690', 'p1497847', 'p1503382', 'p1058667', 'p1059910', 'p1059602', 'p1061954', 'p1057465', 'p1060870', 'p1060927', 'p1056962', 'p1061024', 'p1504791', 'p1501680', 'p1059133', 'p1058350', 'p1060083', 'p1061165', 'p1502910', 'p1502879', 'p48845', 'p1500472', 'p1060475', 'p1058884', 'p1058737', 'p1502471', 'p1060237', 'p1059612', 'p1501528', 'p1056583', 'p1058760', 'p1058373', 'p1060760', 'p1060714', 'p1058946', 'p1498290', 'p1059031', 'p127887', 'p1499702', 'p1502874', 'p1060993', 'p1057012', 'p1057275', 'p1499959', 'p1056836', 'p1505633', 'p1057581', 'p1058887', 'p1059920', 'p1060046', 'p1447155', 'p1059438', 'p1057992', 'p1498602', 'p1884047', 'p1061298', 'p1502527', 'p85222', 'p1499170', 'p48688', 'p1060591', 'p1501627', 'p1500530', 'p1060481', 'p1060780', 'p1498210', 'p1061465', 'p1058050', 'p1056825', 'p1499480', 'p85282', 'p1059899', 'p1060697', 'p1059391', 'p1058383', 'p1058957', 'p1061397', 'p1061676', 'p85386', 'p1060664', 'p1497747', 'p1060389', 'p772909', 'p1059828', 'p1499872', 'p1061138', 'p1503355', 'p1059362', 'p1499885', 'p1057392', 'p127263', 'p1061089', 'p1060010', 'p1059885', 'p1061225', 'p1497430', 'p1058732', 'p85268', 'p1061646', 'p1057555', 'p772733', 'p1057944', 'p1059904', 'p1057200', 'p1057479', 'p85225', 'p1498515', 'p1060639', 'p1060478', 'p1057995', 'p1057803', 'p1061551', 'a406504', 'p1059025', 'p1061593', 'p1505307', 'p1058185', 'p1505065', 'p1057320', 'p1058915', 'p1058674', 'p1059606', 'p1056606', 'p85212', 'p127423', 'p1501467', 'p1060694', 'p1059796', 'p1503577', 'p1061375', 'p1059422', 'p771027', 'p85325', 'p623342', 'p1061176', 'p1057386', 'p1057237', 'p1059243', 'p1056788', 'p1504501', 'p1057989', 'p770914', 'p1058614', 'p770984', 'p1061093', 'p1504304', 'p85294', 'p85415', 'p1059905', 'p127905', 'p1060219', 'p1501208', 'p1061195', 'p1057914', 'p1057365', 'p772962', 'p1058771', 'p1060172', 'p771147', 'p1059128', 'p771332', 'p1498262', 'p1501286', 'p1498774', 'p1502776', 'p48853', 'p1057126', 'p85218', 'p1058785', 'p1061356', 'p772002', 'p772186', 'p1060919', 'p1059762', 'p1061877', 'p1059867', 'p85223', 'p1061981', 'p1056707', 'p164495', 'p85347', 'p1061240', 'a40708', 'p127894', 'p1058693', 'p772475', 'p1498293', 'p1061020', 'p1057765', 'p1059993', 'p1058943', 'p1056958', 'p403069', 'p1058501', 'p1056636', 'p1059348', 'p1057168', 'p1056581', 'p1057741', 'p1060772', 'p1061986', 'p1059305', 'p1504326', 'p1060789', 'p1060552', 'p1058552', 'p127357', 'p1061821', 'p772531', 'p1060679', 'p1057185', 'p85430', 'p1447193', 'p1061843', 'p1060838', 'p1061515', 'p1499868', 'p771116', 'p1059408', 'p1058874', 'p1060054', 'p1501422', 'p1503805', 'p1057551', 'p1056776', 'p1058782', 'p1060653', 'p1060860', 'p1057624', 'p1060147', 'p127279', 'p1061988', 'p1499192', 'p1057979', 'p1060444', 'p1497349', 'p1501524', 'p85326', 'p1058556', 'p1061787', 'p1056740', 'p1057110', 'p1057714', 'p1057575', 'p1059711', 'p1059754', 'p1060358', 'p1059783', 'p1058994', 'p1061325', 'p1501501', 'p1061094', 'p1057968', 'p1056921', 'p772769', 'p1058869', 'a290560', 'p1057488', 'p1058400', 'p127800', 'p1504034', 'p1057964', 'p1061738', 'p1505410', 'p1060784', 'p1058227', 'p1061556', 'p1061117', 'p1058854', 'p1500062', 'p1058237', 'p1061520', 'p1056560', 'p1060142', 'p1058939', 'p1058987', 'p1503716', 'p771120', 'p1506069', 'p1056687', 'p1057517', 'p1926854', 'p1057725', 'p85296', 'p1061756', 'p1056681', 'p1503439', 'p1056513', 'p772266', 'p48647', 'p1059574', 'p1061500', 'p1057886', 'p127866', 'p1059798', 'p1058739', 'p85401', 'p1058578', 'p94041', 'p1447103', 'p1059401', 'p1059063', 'p1061721', 'p1057253', 'p1059541', 'p1060469', 'p127665', 'p1501059', 'p1503008', 'p1059156', 'p1059344', 'p1056835', 'p1060325', 'p1061136', 'p1056660', 'p1060703', 'p1057882', 'p1062035', 'p1501056', 'p1057783', 'p1059825', 'p1058626', 'p1497746', 'p1058023', 'p1058572', 'p771003', 'p1059015', 'p1059101', 'p1059650', 'p1061266', 'p1501222', 'p772160', 'p772528', 'p1057637', 'p1057161', 'p1059088', 'p1501553', 'p1505632', 'p1059352', 'p1061086', 'p1505336', 'p1059912', 'p85270', 'p1497932', 'p1061461', 'p85346', 'p1057463', 'p1061640', 'p1504441', 'p1060573', 'p771746', 'p771600', 'p1060899', 'p1058741', 'p1498930', 'p1499109', 'p1504562', 'p1059473', 'p1061095', 'p1061805', 'p1057751', 'p1060156', 'p772889', 'p1060393', 'p1504463', 'p1884042', 'p1061152', 'p772468', 'p1057905', 'p1060614', 'p1059577', 'p1061972', 'p771265', 'p127313', 'p772336', 'p1504661', 'p1058455', 'p1056842', 'p1058232', 'p1058494', 'p1057607', 'p1059397', 'p1499643', 'p1056653', 'p771407', 'p1060317', 'p1618538', 'p1061656', 'p1059961', 'p1061664', 'p1500819', 'p1503240', 'p48788', 'p772011', 'p1498209', 'p48844', 'p1056983', 'p68631', 'p1061951', 'p1060406', 'p1057826', 'p1058540', 'p1061452', 'p1056615', 'p1058940', 'p1061011', 'p127404', 'p1502575', 'p1502819', 'p1504996', 'p1060312', 'p1504674', 'p1059166', 'p1024154', 'p1501321', 'p1502405', 'p85424', 'p1057002', 'p1056838', 'p1060434', 'p1057632', 'p1502099', 'p1505892', 'p127654', 'p1059068', 'p1500055', 'p48641', 'p1060063', 'p1506106', 'p1058934', 'p1061700', 'p772236', 'p1061223', 'p1057540', 'p1498855', 'p1503157', 'p1057025', 'p1056925', 'p1060833', 'p85374', 'p1056608', 'p1056652', 'p1056611', 'p1059984', 'p127747', 'p1061194', 'p1061586', 'p1056518', 'p1057417', 'p1061144', 'p1058225', 'p1059765', 'p1059073', 'p1059923', 'p1058710', 'p1059973', 'p1884046', 'p1057613', 'a563840', 'p1060609', 'p1059145', 'p1503249', 'p1059749', 'p1061357', 'p127490', 'p1447222', 'p1057028', 'p1061572', 'p1061536', 'p1061994', 'p1057523', 'p1060284', 'p1884001', 'p1501071', 'p1060242', 'p1498053', 'p1060099', 'p1059810', 'p127920', 'p48779', 'p1061034', 'p1057251', 'p127303', 'p1061481', 'p1059161', 'p1061184', 'p1057868', 'p1497510', 'p224355', 'p1500128', 'p1058555', 'p771902', 'p1056744', 'p1058592', 'p772155', 'p1447204', 'p1056659', 'p1502122', 'p1059157', 'p1058372', 'p1058858', 'p127783', 'p1058005', 'p1502143', 'p1062018', 'p1057295', 'p1505513', 'p85321', 'p1058691', 'p1061227', 'p1059543', 'p1505945', 'p1058312', 'p1500310', 'p1505999', 'p772813', 'p1056877', 'p1058477', 'p1058131', 'p1061226', 'p1057661', 'p1059727', 'p1056563', 'p1061662', 'p1056944', 'p1061780', 'p85393', 'p1058152', 'p1060667', 'p1056510', 'p1058830', 'p1058666', 'p1058881', 'p1058247', 'p1061033', 'p1056953', 'p1058630', 'p1061082', 'p1499145', 'p1058971', 'p1058084', 'p1058036', 'p1059769', 'p1061560', 'p1498832', 'p1060589', 'p1058988', 'p773075', 'p1497511', 'p1498726', 'p48615', 'p1057750', 'p1057842', 'p1056737', 'p1058718', 'p1061017', 'p1501316', 'p1059454', 'p1061477', 'p1059947', 'p771630', 'p1504240', 'p48896', 'p48884', 'p1061699', 'c463', 'p85224', 'p1057533', 'p1059049', 'p402903', 'p1058414', 'p1056593', 'p1498909', 'p1505947', 'p1056650', 'p772183', 'p1447178', 'p771733', 'p1058493', 'p1505542', 'p1058711', 'p1061036', 'p1058371', 'p1506000', 'p1062022', 'p1056875', 'p1057563', 'p1504867', 'p1060717', 'p772497', 'p1058672', 'p1504553', 'p1500172', 'p1056561', 'p1057573', 'p1497488', 'p1060831', 'p1059890', 'p1058866', 'p1061583', 'p85195', 'p1056685', 'p1059775', 'p1057535', 'p1057090', 'p1056796', 'p1058809', 'p1501308', 'p1060683', 'p1503983', 'p1057659', 'p1058286', 'p1058063', 'p1505208', 'p772146', 'p1061211', 'p1059253', 'p1057190', 'p1057576', 'p1056853', 'p1502828', 'p1059089', 'p1503287', 'p772141', 'p772698', 'p1498448', 'p1058530', 'p1058522', 'p1061732', 'p772683', 'p772283', 'p1059818', 'p1057150', 'p1061347', 'p1060025', 'p1059386', 'p85320', 'p1498319', 'p1502417', 'p1058467', 'p1058817', 'p1059187', 'p1057921', 'p1057035', 'p1498722', 'p1057383', 'p1058198', 'p1504107', 'p1058101', 'p1059345', 'p1056910', 'p1498181', 'p85338', 'p85213', 'p1057673', 'p85303', 'p1060064', 'p1060951', 'p1057610', 'p1059332', 'p1061160', 'a279369', 'p1057367', 'p1500265', 'p1061409', 'p1061767', 'p771707', 'p1498422', 'p1502418', 'p1057816', 'p1059458', 'p1060869', 'p1060977', 'p1505081', 'p1057769', 'p1498280', 'p1058010', 'p1503373', 'p1505271', 'p85330', 'p1057193', 'p772553', 'p1056826', 'p1060715', 'p772131', 'p1059021', 'p772865', 'p1060216', 'p1504173', 'p127581', 'p48748', 'p1058314', 'p1499437', 'p1501363', 'p1056918', 'p1058209', 'p1059689', 'p1059051', 'p1059916', 'p1060852', 'p1060937', 'p772139', 'p127580', 'p1497479', 'p1059213', 'p1061387', 'p1500610', 'p1501287', 'p1504300', 'p1060151', 'p772933', 'p1058288', 'p1061627', 'p1056885', 'p1058761', 'p1505279', 'p1056750', 'p771288', 'p127815', 'p773014', 'p1505098', 'p1058967', 'p1059622', 'p85191', 'p1059668', 'p1060811', 'p1503614', 'p1061264', 'p1504416', 'p1503121', 'p1058920', 'p1061855', 'p1058087', 'p85403', 'p1058092', 'p85432', 'p1056701', 'p1057197', 'p1058293', 'p1058844', 'p1059415', 'p1059996', 'p1057791', 'p1060629', 'p1061694', 'p85437', 'p965789', 'p771395', 'p1057192', 'p1499158', 'p1057844', 'p1058628', 'p1060104', 'p1058652', 'p1058324', 'p1504343', 'p1498341', 'p1057147', 'p1058786', 'p1497784', 'p1502050', 'p1061921', 'p1504120', 'p1059162', 'p1061989', 'p201088', 'p1058041', 'p1061315', 'p1060276', 'p1498400', 'p1502970', 'p1058283', 'p1061434', 'p1500703', 'p1059035', 'p1058948', 'p1061302', 'p1057184', 'p48809', 'p1061863', 'p1059842', 'p965389', 'p1499712', 'p1057183', 'p1505706', 'p1499168', 'p1057212', 'p450783', 'p1059112', 'p1059398', 'p1060185', 'p1497905', 'p771393', 'p1060398', 'p1499368', 'p1061116', 'p1057324', 'p1061389', 'p1504827', 'p1061819', 'p1502617', 'p85376', 'p1061675', 'p1061464', 'p1501227', 'p771624', 'p1058377', 'p1059359', 'p1060638', 'p1060961', 'p1058276', 'p1499614', 'p1502694', 'p1059481', 'p1061651', 'p127432', 'p127444', 'p772031', 'p1057929', 'p48795', 'p1502076', 'p1058154', 'p1500997', 'p1498568', 'p1498609', 'p1061488', 'p1061342', 'p1447192', 'p127582', 'p1058072', 'p85334', 'p1061446', 'p1061581', 'p127318', 'p1821357', 'p1057692', 'p1058596', 'p48714', 'p1058407', 'p1058104', 'p1056564', 'p1504913', 'p1061445', 'p127588', 'p1503766', 'p1060460', 'p1060963', 'p1057590', 'p1056846', 'p1498005', 'p1061777', 'p1056691', 'p127412', 'p1501897', 'p1059926', 'p1061280', 'p1502024', 'p1059193', 'p1502377', 'p1060476', 'p1059212', 'p1498133', 'p1061053', 'p1499968', 'p1057053', 'p1057221', 'p1057544', 'p1061027', 'p1059476', 'p1056646', 'p1061366', 'p1060796', 'p1061927', 'p85280', 'p1057204', 'p1505414', 'p772905', 'p1060035', 'p1060950', 'p1057437', 'p1498192', 'p1060921', 'p1504207', 'p772245', 'p1498495', 'a406505', 'p1504179', 'p1061548', 'p1061720', 'p1057857', 'p85198', 'p771363', 'p85272', 'p1061462', 'p1061443', 'p1502769', 'p127790', 'p1501179', 'p164478', 'p1059850', 'p1381876', 'p1059884', 'p1060352', 'p1501101', 'p1057148', 'p1501664', 'c1124', 'p771404', 'p1056588', 'p1059590', 'p1060464', 'p1500895', 'p1060068', 'p1498326', 'p1504347', 'p85423', 'p127645', 'p1061729', 'p1503872', 'p772551', 'p1058166', 'p164501', 'p1057108', 'p1061133', 'p771198', 'p1502920', 'p85253', 'p771614', 'p1058391', 'p1500236', 'p85336', 'p444128', 'p1059140', 'p1060462', 'p85174', 'p1057260', 'p1059409', 'p1060209', 'p1058665', 'p1500627', 'p1058668', 'p1060488', 'p1060621', 'p1502279', 'p1505066', 'p1057257', 'p1498630', 'p1500072', 'p1061164', 'p1060537', 'p48595', 'p1059900', 'p772014', 'p1056709', 'p1059931', 'p772053', 'p1061054', 'p1059038', 'p127853', 'p771748', 'p1503977', 'p1060987', 'p1056591', 'p1057612', 'p1060854', 'p1498912', 'p1059532', 'p1060988', 'p1503391', 'p1499573', 'p1057007', 'p772224', 'p1497463', 'p1058537', 'p1060655', 'p1057418', 'p1060794', 'p127480', 'p1504776', 'p772405', 'p1447151', 'p121785', 'p1057239', 'p772110', 'p1060069', 'p772721', 'p1060337', 'p1501687', 'p1501250', 'p1058882', 'p1059552', 'p1057920', 'p1057657', 'p1500136', 'p1056849', 'p1059593', 'p1058635', 'p771401', 'p1059283', 'p1060889', 'p1505838', 'p1057499', 'p1505543', 'p1057142', 'p1058492', 'p1502253', 'p48674', 'p1501950', 'p1058804', 'p1060835', 'p1821475', 'p1502951', 'p1058516', 'p1059468', 'p1061597', 'p1060007', 'p1060737', 'p771516', 'p1058428', 'p1498084', 'p1061543', 'p1061170', 'p1499737', 'p1058150', 'p1058151', 'p1057585', 'p771000', 'p1058298', 'p1057990', 'p1057900', 'p1060975', 'p1057032', 'p1058239', 'p1057991', 'p771979', 'p1059036', 'p1059233', 'p1501567', 'p1502663', 'p1061764', 'p1061691', 'p1057594', 'p1060442', 'p1447115', 'p1502716', 'p1059199', 'p1502621', 'p1059478', 'p1058862', 'p1059527', 'p1058797', 'p127651', 'p1821611', 'p1061854', 'p1056598', 'p1061372', 'p1500456', 'p771837', 'p1061706', 'p85324', 'p1058590', 'p1060593', 'p1061006', 'p1060290', 'p1057813', 'p1059937', 'p1500368', 'p1884040', 'p1501594', 'p1058909', 'p1058487', 'p1502843', 'p1504217', 'p1059093', 'p1060429', 'p48636', 'p1061105', 'p1060304', 'p48667', 'p1056703', 'p1060351', 'p1504934', 'p1503441', 'p1501444', 'p1061259', 'p1499119', 'p127885', 'p1061657', 'p1501614', 'p127615', 'p771820', 'p771723', 'p1497599', 'p1056993', 'p771210', 'p1057050', 'p1056641', 'p1056736', 'p1057404', 'p1057508', 'p1058370', 'p1502842', 'p1059091', 'p1505920', 'p48701', 'p772402', 'p85180', 'p1057966', 'p1058703', 'p1059779', 'p1060611', 'p1057209', 'p1059803', 'a66559', 'p1057289', 'p1501936', 'p1058577', 'p1058820', 'p1058342', 'p1059329', 'p1060211', 'p1498453', 'p1056658', 'p1060551', 'a406503', 'p1503705', 'p1060477', 'p1499359', 'p1057169', 'p142465', 'p48733', 'p1499630', 'p1060500', 'p1060712', 'p1061875', 'p1058459', 'p1057798', 'p1059691', 'p1061990', 'a40705', 'p1056530', 'p1061098', 'p1504933', 'p1060302', 'p1059858', 'p1061848', 'p1497890', 'p1497486', 'p1060177', 'p1501630', 'p1059827', 'p1060856', 'p1058731', 'p1503455', 'p1504446', 'p1501608', 'p1061562', 'p771770', 'p1056964', 'p1501068', 'p1061149', 'p1057877', 'p1060828', 'p1061589', 'p1058013', 'p85392', 'p85368', 'p1058912', 'p1387630', 'p1503288', 'p1057125', 'p1058865', 'p1060739', 'p1060783', 'p1061040', 'p1059554', 'p1061214', 'p1061482', 'p1057532', 'p1502277', 'a488077', 'p772838', 'p1057318', 'p1058102', 'p1058167', 'p1061092', 'p1503510', 'p1061983', 'a40706', 'p1503026', 'p1058332', 'p1056644', 'p1056937', 'p1056508', 'p1058542', 'p1057480', 'p1059886', 'p1060744', 'p1505660', 'p1504618', 'p1056837', 'p48840', 'p85211', 'p1498938', 'p1056963', 'p1061301', 'p1056682', 'p1498377', 'p1498055', 'p1504558', 'p1061823', 'p1058404', 'p771623', 'p1056805', 'p1058498', 'p1061224', 'p1059740', 'p1061885', 'p1058258', 'p1061987', 'p1499522', 'p1447048', 'p771668', 'p1501657', 'p1060081', 'p1505217', 'p1057653', 'p1061975', 'p1059493', 'p1504351', 'p1500486', 'p1056989', 'p1059066', 'p48711', 'p1502153', 'p1061297', 'p1504692', 'p1058175', 'p1059739', 'p1498644', 'p1499503', 'p1497972', 'p1060306', 'p48722', 'p1059682', 'p1060205', 'p1504640', 'p127658', 'p1059336', 'p1057284', 'p1504623', 'p1058363', 'p1060354', 'p1060377', 'p1061107', 'p1503753', 'p1057472', 'p443256', 'p1502817', 'p1056861', 'p1498295', 'p1057670', 'p93773', 'p773022', 'p1061901', 'p1502830', 'p127301', 'p1059060', 'p1498620', 'p1503931', 'p85204', 'p1056694', 'p1057014', 'p48820', 'p1058110', 'p1058143', 'p1057685', 'p1498230', 'p1060884', 'p1498148', 'p1060902', 'p1058774', 'p1500938', 'p1059479', 'a66478', 'p1057557', 'p1056573', 'p1059836', 'p1061685', 'p1503837', 'p1058562', 'p85317', 'p1056699', 'p1499531', 'p1056592', 'p1056852', 'p1059654', 'p1061760', 'p1060090', 'p1058708', 'p1061180', 'p1497945', 'p1061091', 'p772788', 'p1502950', 'p1056868', 'p771348', 'p1057732', 'p1057599', 'p1058156', 'p1058989', 'p1060227', 'p1503178', 'p1505382', 'p1058598', 'p1501714', 'p1056891', 'p1060375', 'p85428', 'p1059802', 'p127291', 'p1501557', 'p85377', 'p1057477', 'p965637', 'p1501319', 'p48902', 'p1059229', 'p1057304', 'p1058306', 'p48949', 'p1938056', 'p1501648', 'p1503278', 'p1057042', 'p1058826', 'p1061420', 'p1061962', 'p1057907', 'p1501424', 'p1057908', 'p1504594', 'p127716', 'p1057772', 'p1058843', 'p1059412', 'a40704', 'p1497500', 'p1499371', 'p85299', 'p1504578', 'p1058724', 'p1059557', 'p1060608', 'p1057358', 'p771105', 'p772685', 'p1056589', 'p1057434', 'p1057336', 'p1059010', 'p1059991', 'p1061505', 'p85178', 'p1057140', 'p1061066', 'p1058677', 'p1059774', 'p1503096', 'p1059381', 'p1059494', 'p1056895', 'p400434', 'p1061696', 'p1059555', 'p1059770', 'p1061649', 'p1057601', 'p1500091', 'p1061531', 'p48694', 'p1057545', 'p9330', 'p1499289', 'a40709', 'p1059753', 'p1059642', 'p1499788', 'p1506085', 'p1058301', 'p1503902', 'p1505907', 'p1056824', 'p1058336', 'p1057360', 'p1058257', 'p1058203', 'p1061639', 'p1057079', 'p1058229', 'p1499209', 'p1059976', 'p1059519', 'p1060260', 'p61346', 'p48753', 'p1057450', 'p772947', 'p1061118', 'p1060230', 'p1057617', 'p1500963', 'p1059403', 'p1504644', 'p770979', 'p1056870', 'p48930', 'p1056706', 'p1058107', 'p1503088', 'p1499819', 'p1500753', 'p85313', 'p1058390', 'p1059492', 'p1060980', 'p1061638', 'p127932', 'p1501284', 'p1056954', 'p1059131', 'p772217', 'p1057503', 'p1058619', 'p127723', 'p127803', 'p1057314', 'p771319', 'p127382', 'p1061418', 'p1059661', 'p1060501', 'p1447073', 'p1057387', 'p1503541', 'p772388', 'p127426', 'p1504970', 'p1057282', 'p1057519', 'p771813', 'p1057800', 'p85405', 'p1059123', 'p1061278', 'p1061451', 'p1060871', 'p296863', 'p1503275', 'p771291', 'p1058049', 'p1057071', 'p1058543', 'p1498529', 'p1061331', 'p1500633', 'p1060349', 'p1058650', 'p1058499', 'p1061530', 'p771996', 'p85309', 'p1058904', 'p1884038', 'p1058845', 'p1061576', 'p1059219', 'p1502554', 'p1058420', 'p1058806', 'p1059598', 'p772665', 'p1061044', 'p1061935', 'p1057977', 'p1061963', 'p1060361', 'p1498591', 'p1060030', 'p901094', 'p1503428', 'p1505641', 'p772797', 'p772972', 'p1056521', 'p1059963', 'p1057293', 'p1497968', 'p1498212', 'c1810', 'p1061003', 'p85421', 'p1060223', 'p1057861', 'p1059514', 'p1061476', 'p1061615', 'p1061622', 'p1060933', 'p1061815', 'p1062038', 'p1500317', 'p1502436', 'p1061209', 'p1060062', 'p1059435', 'p771110', 'p1061660', 'p901076', 'p1057107', 'p1057621', 'p1499585', 'p1058838', 'p1057115', 'p1058331', 'p1058813', 'p1056992', 'p1057288', 'p1061450', 'p1062003', 'p1056967', 'p1060666', 'p1058755', 'p1505474', 'p1058496', 'p1060949', 'p1499030', 'p1500013', 'p1498020', 'p1060467', 'p1059824', 'p1061697', 'p1501720', 'p1057176', 'p1060203', 'p1497485', 'p1502791', 'p1503333', 'p85404', 'p1057349', 'p1060435', 'p772211', 'p1057526', 'p1058811', 'p1060187', 'p1058053', 'p1060228', 'p1058722', 'p1060882', 'p1501800', 'p1058647', 'p1059318', 'p1952268', 'p1060839', 'p1058605', 'p85310', 'p1060246', 'p1499634', 'p1500355', 'p85411', 'p85254', 'p1059302', 'p1057322', 'p1061448', 'p1061277', 'p1059121', 'p1060439', 'p127749', 'p772680', 'p1060082', 'p1500087', 'p1502203', 'p1059778', 'p1056633', 'p1061882', 'p1503871', 'p1056500', 'p1503357', 'p1061904', 'p1058751', 'p1823025', 'p1058639', 'p1061206', 'p1061191', 'p1060729', 'p1060267', 'p1057127', 'p1059611', 'p1497372', 'p1060491', 'p1061584', 'p1060041', 'p127289', 'p770985', 'p1499142', 'p1061766', 'p1056543', 'p48650', 'p1505979', 'p1060451', 'p1060855', 'p1057529', 'p1502780', 'p1503126', 'p1060412', 'p1059799', 'p1056515', 'p1057506', 'p1061058', 'p1061494', 'p1057036', 'p1504479', 'p1059311', 'p61365', 'p1057388', 'p1058108', 'p1497514', 'p1056548', 'p1056882', 'p1057996', 'p1058597', 'p1061427', 'p1500347', 'p1497887', 'p1499753', 'p1060859', 'p1498153', 'p1058756', 'p1060118', 'p1061771', 'p1497694', 'p1059528', 'p48878', 'p1059707', 'p48755', 'p1060908', 'p1058264', 'p1502709', 'p1498282', 'p1057120', 'p1059511', 'p1057051', 'p85431', 'p1060419', 'p1058201', 'p1061289', 'p1056778', 'p1061392', 'p1056618', 'p1058353', 'p48643', 'p1061362', 'p1060195', 'p1058927', 'p1061279', 'p1499031', 'p1503917', 'p1062007', 'p1057486', 'p772767', 'p1057541', 'p1059309', 'p1060562', 'p1057380', 'p1056735', 'p1501545', 'p1057864', 'p772676', 'p1497874', 'p1503820', 'p771676', 'p1500611', 'p1502283', 'p1060550', 'p1057460', 'p1504473', 'p1061973', 'p85257', 'p1058447', 'p1060499', 'p1497571', 'p1056621', 'p48839', 'p1057691', 'p1060320', 'p1058389', 'p1497778', 'p1506034', 'p1500458', 'p1059470', 'p1061820', 'p1501388', 'p1501919', 'p1497619', 'p1059242', 'p1058044', 'p1060535', 'p1497417', 'p1498672', 'p772633', 'p1058142', 'p1060997', 'p1498330', 'p1060396', 'p1057189', 'p1058214', 'p1057033', 'p1061430', 'p1061346', 'p1501691', 'p1056575', 'p85323', 'p1060590', 'p1060879', 'p1061499', 'p1061233', 'p1057006', 'p1057256', 'p1059629', 'p1058080', 'p1059696', 'p1061832', 'p1499896', 'p1058093', 'p1502173', 'p1056970', 'p772894', 'p1058955', 'p1061026', 'p1497655', 'p1058282', 'p48947', 'p1056535', 'p1056764', 'p1502714', 'p1499104', 'p1060193', 'p1061654', 'p1503219', 'p1060316', 'p1056557', 'p1060331', 'p1056876', 'p1505138', 'p48859', 'p1057572', 'p1501032', 'p1503786', 'p1501257', 'p1060345', 'p1057982', 'p1057630', 'p1059741', 'p1387586', 'p85388', 'p1056809', 'p1059940', 'p1499013', 'p1060986', 'p1057766', 'p1060834', 'p1061398', 'p1058705', 'p1504928', 'p85441', 'p1058272', 'p1059883', 'p48704', 'p1504953', 'p1059921', 'p1059782', 'p771382', 'p772264', 'p1060952', 'p1057713', 'p1061701', 'p1061566', 'p772679', 'p1060707', 'p1501522', 'p1060022', 'p1061188', 'p1059614', 'p1497608', 'p85372', 'p1058645', 'p1502484', 'p1056754', 'p1058588', 'p1058462', 'p1059445', 'p1060782', 'p1500144', 'p1500371', 'p1505485', 'p1057970', 'p1059934', 'p1061979', 'p1504831', 'p1057933', 'p1061599', 'p127841', 'p1497519', 'p1057224', 'p1060770', 'p1056971', 'p1501011', 'p1059322', 'p1501535', 'p1060978', 'p771678', 'p771983', 'p85241', 'p1059681', 'p85315', 'p85261', 'p1056770', 'p1060490', 'p1060586', 'p1058923', 'p1499933', 'p1057998', 'p1057165', 'p1056952', 'p1504864', 'p1058676', 'p1059677', 'p1060492', 'p85318', 'p1057180', 'p1058284', 'p1060095', 'p1499577', 'p1504882', 'p1056505', 'p1498423', 'p1059252', 'p1499015', 'p1504916', 'p1061314', 'p1057677', 'p1061247', 'p1059928', 'p1506096', 'p1059079', 'p205929', 'p1059520', 'p1059041', 'p1503297', 'p1061309', 'p1498861', 'p771612', 'p1057355', 'p1502383', 'p1056587', 'p1502545', 'p1503099', 'p1058235', 'p1057978', 'p1057754', 'p1500833', 'p1058941', 'p1058958', 'p1501309', 'p1498277', 'p1060931', 'p1059690', 'p1498250', 'p770955', 'p1057026', 'p1060528', 'p1057294', 'p1447117', 'p1060994', 'p1059151', 'p1500326', 'p1060823', 'p85343', 'p1060273', 'p1059616', 'p1060124', 'p1061508', 'p1058124', 'p771732', 'p1059206', 'p1060670', 'p1060034', 'p1502474', 'p1061306', 'p1498355', 'p1061838', 'p1501966', 'p1500595', 'p1059718', 'p1500623', 'p1057757', 'p1499684', 'p127321', 'p1060074', 'p1057259', 'p1060346', 'p1062013', 'p1504994', 'p1059420', 'p1059531', 'p1061407', 'p1500182', 'p1059952', 'p1057807', 'p1060897', 'p1058879', 'p1059927', 'p127767', 'p1503557', 'p1498900', 'p1057562', 'p1056649', 'p1057329', 'p1061587', 'p1056590', 'p772071', 'p1502439', 'p85410', 'p1058368', 'p1497432', 'p1500291', 'p164503', 'p48751', 'p1059208', 'p1059789', 'p1060234', 'p1061128', 'p1058224', 'p1498562', 'p1058998', 'p1057512', 'p1505247', 'p1059271', 'p1504454', 'p1060093', 'p1058688', 'p1058479', 'p1057179', 'p772169', 'p1059132', 'p1057993', 'p1061860', 'p1057296', 'p1062006', 'p1500652', 'p1059457', 'p48950', 'p1059795', 'p1060298', 'p85316', 'p1061205', 'p127314', 'p1504053', 'p771702', 'p1056855', 'p1058574', 'p1059831', 'p1057252', 'p1060466', 'p1061610', 'p1498014', 'p1498231', 'p85256', 'p1057198', 'p1057346', 'p1058802', 'p1504779', 'p1061522', 'p1503809', 'p85283', 'p1060503', 'p1503854', 'p85308', 'p1058550', 'p1058716', 'p1060995', 'p1059324', 'p1505647', 'p1500822', 'p1060536', 'p1060643', 'p1061919', 'p1498782', 'p1505524', 'p1056955', 'p1061070', 'p85243', 'p1057049', 'p1498755', 'p771178', 'p771855', 'p1498809', 'p1505877', 'p1498892', 'p1772596', 'p1500852', 'p1501015', 'p85181', 'p1057158', 'p1058109', 'p1056789', 'p1059453', 'p1497897', 'p1058155', 'p1060804', 'p1497725', 'p1502179', 'p1503727', 'p1060079', 'p1061782', 'p1060454', 'p1059631', 'p1061789', 'p1220649', 'p1505579', 'p1057833', 'p1061812', 'p1498797', 'p1061849', 'p1059178', 'p1056677', 'p1501497', 'p85264', 'p1057262', 'p772513', 'p1504224', 'p1057836', 'p1057781', 'p770873', 'p1058803', 'p771051', 'p1056596', 'p1059877', 'p1060496', 'p1061381', 'p772594', 'p1504915', 'p1060176', 'p1501917', 'p1058612', 'p1057102', 'p1059230', 'p1061492', 'p1058833', 'p1060240', 'p1504551', 'p1058993', 'p772903', 'p1501792', 'p296760', 'p127817', 'p771005', 'p1060595', 'p1062032', 'p127771', 'p1056567', 'p1057854', 'p1061715', 'p772274', 'p1058304', 'p1058566', 'p1057709', 'p1056520', 'p1060936', 'p1057589', 'p1060012', 'p1502086', 'p127366', 'p1057073', 'p1057310', 'p772298', 'p1505889', 'p771704', 'p1501209', 'p1057356', 'p1057895', 'p1498489', 'p1497760', 'p771400', 'p1058995', 'p1502740', 'p1061791', 'p1059832', 'p1501200', 'p1059185', 'p1057216', 'p1060676', 'p1057665', 'p770923', 'p1061442', 'p1503600', 'p85350', 'p85189', 'p1058322', 'p1061792', 'p1059875', 'p1057009', 'p1058268', 'p1060647', 'p85297', 'p1057806', 'p1061617', 'p127496', 'p1061933', 'p1059033', 'p1059945', 'p1884033', 'p1500714', 'p1503076', 'p1056675', 'p1060287', 'p1057646', 'p1060661', 'p127515', 'p1500863', 'p1058027', 'p1061673', 'p1060848', 'p1058594', 'p1058607', 'p1056702', 'p1057939', 'p1057837', 'p1060080', 'p1502661', 'p771067', 'p563070', 'p85385', 'p1498402', 'p1060678', 'p1500921', 'p1056556', 'p1060188', 'p1503598', 'p1059085', 'p1059113', 'p1061318', 'p1057652', 'p1501979', 'p1056619', 'p1498196', 'p1059988', 'p1056629', 'p1056704', 'p1061351', 'p1498671', 'p1057586', 'p1057802', 'p1059763', 'p1060999', 'p1058403', 'p1061736', 'p1057521', 'p1058959', 'p1498839', 'p1500297', 'p1061614', 'p1059334', 'p773107', 'p1505779', 'p1505916', 'p1501775', 'p1057484', 'p1056850', 'p1058548', 'p1499948', 'p1061727', 'p772356', 'p1058717', 'p1504474', 'p48602', 'p1058744', 'p1884018', 'p1059286', 'p1061113', 'p1502783', 'p1061528', 'p85440', 'p1501401', 'p1502205', 'p1502868', 'p1058046', 'p1058145', 'p772032', 'p1059635', 'p1057756', 'p1059542', 'p1057407', 'p1061661', 'p1501213', 'p1061457', 'p1500786', 'p1504309', 'p1505020', 'p900983', 'p1057963', 'p1059980', 'p1498720', 'p1058694', 'p1059096', 'p1061416', 'p1059216', 'p1059371', 'p85184', 'p1058248', 'p1059444', 'p1061734', 'c1062', 'p1056873', 'p1057738', 'p1060318', 'p1060709', 'p1498727', 'p1504728', 'p1059800', 'p1056538', 'p85340', 'p1058004', 'p844770', 'p1497885', 'p1502683', 'p1058557', 'p127648', 'p1505188', 'p1503773', 'p1057536', 'p1061645', 'p1060360', 'p1499213', 'p85177', 'p1058132', 'p1061625', 'p127521', 'p1057796', 'p1059290', 'a406502', 'p1060767', 'p1498687', 'p771416', 'p85322', 'p1505033', 'p1059566', 'p771725', 'p772611', 'p1060165', 'p1500475', 'p1500660', 'p1059439', 'p1057983', 'p1060127', 'p1497640', 'p1057409', 'p1059361', 'p1057843', 'p1058114', 'p1058127', 'p291148', 'p1059436', 'p772207', 'p1059366', 'p1061135', 'p1060510', 'p1060719', 'p1497679', 'p48959', 'p1059525', 'p1498573', 'p1499604', 'p1060484', 'p1059951', 'p1058269', 'p1058320', 'p1057790', 'p85399', 'p1057922', 'p1059776', 'p1061665', 'p1061836', 'p1060159', 'p1061939', 'p1503388', 'p1061607', 'p127393', 'p770876', 'p85436', 'p1057840', 'p1057705', 'p1060965', 'p1059174', 'a406501', 'p1056595', 'p1504385', 'p1058961', 'p1504942', 'p127669', 'p1056932', 'p1061633', 'p1061629', 'p772324', 'p1500237', 'p1498458', 'p1060258', 'p1058980', 'p1058508', 'p1061283', 'p1061353', 'p1501831', 'p1059586', 'p1058690', 'p1059630', 'p1061221', 'p1058585', 'p1058579', 'p1061002', 'p1500717', 'p1061847', 'p1059660', 'p622784', 'p1060181', 'p1060397', 'p1499413', 'p1057476', 'p1061030', 'p1060587', 'p1056756', 'p1056787', 'p1501591', 'p1057668', 'p1058223', 'p85258', 'p1061272', 'p1059771', 'p1059456', 'p1505451', 'p85361', 'p1060981', 'p1884024', 'p1062016', 'p1497483', 'p85202', 'p1503218', 'p1061647', 'p1058412', 'p1499172', 'p1503559', 'p1502521', 'p1058730', 'p1060235', 'p1061077', 'p771456', 'p1060061', 'p1061516', 'p1499972', 'p85242', 'p1497470', 'p1499320', 'p1059737', 'p1061653', 'p1059503', 'p1061807', 'p1057283', 'p1061913', 'p1497939', 'p1797618', 'p1059639', 'p772080', 'p772662', 'p1059168', 'p1499571', 'p1061361', 'p1061207', 'p1062023', 'p127359', 'p1497469', 'p1503715', 'p1059078', 'p127290', 'p85249', 'p1059471', 'p1503303', 'p1057760', 'p1058351', 'p1499523', 'p1505962', 'p1060303', 'p772808', 'p1059029', 'p1056719', 'p1061287', 'p1060812', 'p1060662', 'p1059670', 'p1057457', 'p85197', 'p1057075', 'p1060836', 'p1502899', 'p85438', 'p1056769', 'p1059786', 'p1057326', 'p1060101', 'p127781', 'p1057116', 'p1058721', 'p85394', 'p85208']\n"
     ]
    }
   ],
   "source": [
    "print(sub_graphs[data_idx].nodes)"
   ]
  },
  {
   "cell_type": "code",
   "execution_count": 74,
   "metadata": {},
   "outputs": [],
   "source": [
    "from src.aminer2 import get_neighbour_nodes"
   ]
  },
  {
   "cell_type": "code",
   "execution_count": 80,
   "metadata": {},
   "outputs": [],
   "source": [
    "test = nx.Graph()\n",
    "for node_id in range(10):\n",
    "    test.add_node(node_id)\n",
    "\n",
    "test.add_edge(1,2);test.add_edge(0,1)\n",
    "test.add_edge(1,3);test.add_edge(2,4)\n",
    "test.add_edge(4,6);test.add_edge(2,5)\n",
    "test.add_edge(5,7);test.add_edge(7,9)"
   ]
  },
  {
   "cell_type": "code",
   "execution_count": 81,
   "metadata": {},
   "outputs": [
    {
     "name": "stdout",
     "output_type": "stream",
     "text": [
      "[1, 4, 5, 2, 1, 0, 1, 3]\n"
     ]
    }
   ],
   "source": [
    "print(get_neighbour_nodes(test, 1, cutoff=2))"
   ]
  },
  {
   "cell_type": "code",
   "execution_count": 2,
   "metadata": {},
   "outputs": [],
   "source": [
    "import pickle"
   ]
  },
  {
   "cell_type": "code",
   "execution_count": 6,
   "metadata": {},
   "outputs": [],
   "source": [
    "from src.yahoo import init_graph_with_group\n",
    "import networkx as nx"
   ]
  },
  {
   "cell_type": "code",
   "execution_count": 22,
   "metadata": {},
   "outputs": [
    {
     "name": "stdout",
     "output_type": "stream",
     "text": [
      "10001\n"
     ]
    }
   ],
   "source": [
    "G, group_mappings = init_graph_with_group('small')"
   ]
  },
  {
   "cell_type": "code",
   "execution_count": 8,
   "metadata": {},
   "outputs": [
    {
     "data": {
      "text/plain": [
       "(187080, 244837)"
      ]
     },
     "execution_count": 8,
     "metadata": {},
     "output_type": "execute_result"
    }
   ],
   "source": [
    "len(G.nodes), len(G.edges)"
   ]
  },
  {
   "cell_type": "code",
   "execution_count": 32,
   "metadata": {},
   "outputs": [
    {
     "data": {
      "text/plain": [
       "['u21241',\n",
       " 'u39714',\n",
       " 'u54679',\n",
       " 'u109554',\n",
       " 'u112214',\n",
       " 'u125155',\n",
       " 'u177082',\n",
       " 'u177083',\n",
       " 'u177084',\n",
       " 'u177085']"
      ]
     },
     "execution_count": 32,
     "metadata": {},
     "output_type": "execute_result"
    }
   ],
   "source": [
    "list(H.neighbors('g10000'))"
   ]
  },
  {
   "cell_type": "code",
   "execution_count": 27,
   "metadata": {},
   "outputs": [],
   "source": [
    "name2id = {}\n",
    "for n in G.nodes:\n",
    "    if n[0] == 'u':\n",
    "        name2id[n] = 'u' +str(len(name2id)+1)\n",
    "H = nx.relabel.relabel_nodes(G, name2id)\n"
   ]
  },
  {
   "cell_type": "code",
   "execution_count": 33,
   "metadata": {},
   "outputs": [],
   "source": [
    "with open('data/yahoo-group/ydata-ygroups-user-group-10000-membership-graph-v1_0.txt', 'w') as f:\n",
    "    f.write('%d %d\\n' % (len(H.nodes), len(H.edges)))\n",
    "    for idx in range(10000):\n",
    "        neighbors = list(H.neighbors('g'+str(idx+1)))\n",
    "        f.write(' '.join(neighbors)+'\\n')\n",
    "    offset = 10000\n",
    "    for idx in range(len(name2id)):\n",
    "        neighbors = list(H.neighbors('u'+str(idx+1)))\n",
    "        f.write(' '.join(neighbors)+'\\n')"
   ]
  },
  {
   "cell_type": "code",
   "execution_count": 45,
   "metadata": {},
   "outputs": [],
   "source": [
    "from torch_geometric.utils.convert import to_networkx\n",
    "from src.meetup import Meetup\n",
    "from src.skipgram import data_to_networkx_, extract_node_type, sample_node_neighbour_hops, generate_batch"
   ]
  },
  {
   "cell_type": "code",
   "execution_count": 2,
   "metadata": {},
   "outputs": [
    {
     "name": "stdout",
     "output_type": "stream",
     "text": [
      "Processing...\n",
      "Done!\n"
     ]
    }
   ],
   "source": [
    "dataset = Meetup()"
   ]
  },
  {
   "cell_type": "code",
   "execution_count": 36,
   "metadata": {},
   "outputs": [],
   "source": [
    "sub_G = data_to_networkx_(dataset[0])"
   ]
  },
  {
   "cell_type": "code",
   "execution_count": 46,
   "metadata": {},
   "outputs": [],
   "source": [
    "inputs, labels, negative = generate_batch(sub_G, 128, 0, len(dataset.user2id), neg_num=2)"
   ]
  },
  {
   "cell_type": "code",
   "execution_count": 49,
   "metadata": {},
   "outputs": [],
   "source": [
    "from src.skipgram import SkipGramNeg\n",
    "import torch"
   ]
  },
  {
   "cell_type": "code",
   "execution_count": 50,
   "metadata": {},
   "outputs": [],
   "source": [
    "model = SkipGramNeg(len(dataset.user2id), 8)\n",
    "loss = model(torch.from_numpy(inputs), torch.from_numpy(labels), torch.from_numpy(negative))"
   ]
  },
  {
   "cell_type": "code",
   "execution_count": 51,
   "metadata": {},
   "outputs": [
    {
     "data": {
      "text/plain": [
       "tensor(1.3863, grad_fn=<NegBackward>)"
      ]
     },
     "execution_count": 51,
     "metadata": {},
     "output_type": "execute_result"
    }
   ],
   "source": []
  },
  {
   "cell_type": "code",
   "execution_count": 105,
   "metadata": {},
   "outputs": [],
   "source": [
    "import torch\n",
    "from torch_geometric.data import DataLoader\n",
    "from src.aminer import Aminer"
   ]
  },
  {
   "cell_type": "code",
   "execution_count": 106,
   "metadata": {},
   "outputs": [
    {
     "name": "stdout",
     "output_type": "stream",
     "text": [
      "Processing...\n",
      "processed/dblp_v1/processed\n",
      "length: 7297\n",
      "update\n",
      "Done!\n",
      "processed/dblp_v1/processed\n",
      "length: 7297\n",
      "update\n"
     ]
    }
   ],
   "source": [
    "data = torch.load('processed/dblp_v1/processed/dblp_3_0.8_5_3_983_v2.pt')\n",
    "datasets = Aminer()\n",
    "trainer = DataLoader(datasets, batch_size=5)"
   ]
  },
  {
   "cell_type": "code",
   "execution_count": 60,
   "metadata": {},
   "outputs": [],
   "source": [
    "author_node_idx = data.x[:, -1] == 0\n",
    "paper_idx = data.x[ :, 0 ] == data.titleid[0]\n",
    "\n",
    "candidate_idx = author_node_idx & (data.x[:, 1 ] == 1)\n",
    "# not label not known users and node type = user\n",
    "negative_node_idx = (data.y == 0) & (~candidate_idx) & (author_node_idx)\n",
    "target_node = data.x[ (data.y==1) ]\n",
    "\n",
    "candidate_node = data.x[ candidate_idx ]\n",
    "negative_node = data.x[ negative_node_idx ]"
   ]
  },
  {
   "cell_type": "code",
   "execution_count": 67,
   "metadata": {},
   "outputs": [],
   "source": [
    "from src.layers import StackedGCNDBLP\n",
    "model = StackedGCNDBLP(\n",
    "                   author_size=874608,#len(author2id),\n",
    "                   paper_size=3605603,#len(paper2id),\n",
    "                   conf_size=12770, output_channels=5)"
   ]
  },
  {
   "cell_type": "code",
   "execution_count": 69,
   "metadata": {},
   "outputs": [],
   "source": [
    "outputs = model(data.edge_index, data.x)"
   ]
  },
  {
   "cell_type": "code",
   "execution_count": 71,
   "metadata": {},
   "outputs": [],
   "source": [
    "negative_embed = outputs[ negative_node_idx ]\n",
    "candidate_embed = outputs[ candidate_idx ]\n",
    "target_embed = outputs[ data.y==1 ]"
   ]
  },
  {
   "cell_type": "code",
   "execution_count": 82,
   "metadata": {},
   "outputs": [],
   "source": [
    "latent = candidate_embed.sum(0)\n",
    "# target_embed[0]*latent - latent*negative_embed"
   ]
  },
  {
   "cell_type": "code",
   "execution_count": 126,
   "metadata": {},
   "outputs": [],
   "source": [
    "pos = (torch.mm(latent.unsqueeze(-1).T, target_embed.T ) - 1)**2\n",
    "# torch.dot(target_embed[0],  latent)\n",
    "neg = torch.mm(negative_embed, latent.unsqueeze(-1))**2"
   ]
  },
  {
   "cell_type": "code",
   "execution_count": 101,
   "metadata": {},
   "outputs": [],
   "source": [
    "loss = pos.sum()+neg.sum()"
   ]
  },
  {
   "cell_type": "code",
   "execution_count": 103,
   "metadata": {},
   "outputs": [
    {
     "name": "stdout",
     "output_type": "stream",
     "text": [
      "None\n"
     ]
    }
   ],
   "source": [
    "loss.backward()"
   ]
  },
  {
   "cell_type": "code",
   "execution_count": 99,
   "metadata": {},
   "outputs": [
    {
     "ename": "NameError",
     "evalue": "name 'mse_loss' is not defined",
     "output_type": "error",
     "traceback": [
      "\u001b[0;31m---------------------------------------------------------------------------\u001b[0m",
      "\u001b[0;31mNameError\u001b[0m                                 Traceback (most recent call last)",
      "\u001b[0;32m<ipython-input-99-e300d46c122c>\u001b[0m in \u001b[0;36m<module>\u001b[0;34m\u001b[0m\n\u001b[0;32m----> 1\u001b[0;31m \u001b[0mmse_loss\u001b[0m\u001b[0;34m(\u001b[0m\u001b[0mpos\u001b[0m\u001b[0;34m,\u001b[0m \u001b[0;36m1\u001b[0m\u001b[0;34m)\u001b[0m\u001b[0;34m\u001b[0m\u001b[0;34m\u001b[0m\u001b[0m\n\u001b[0m",
      "\u001b[0;31mNameError\u001b[0m: name 'mse_loss' is not defined"
     ]
    }
   ],
   "source": [
    "mse_loss(pos, 1)"
   ]
  },
  {
   "cell_type": "code",
   "execution_count": 107,
   "metadata": {},
   "outputs": [],
   "source": [
    "batch = next(iter(trainer))"
   ]
  },
  {
   "cell_type": "code",
   "execution_count": 121,
   "metadata": {},
   "outputs": [
    {
     "name": "stdout",
     "output_type": "stream",
     "text": [
      "46\n",
      "125\n",
      "41\n",
      "25\n",
      "38\n"
     ]
    }
   ],
   "source": [
    "outputs = model(batch.edge_index, batch.x)\n",
    "\n",
    "acc_loss = 0\n",
    "N = 0\n",
    "for batch_idx in range(batch_size):\n",
    "    paper_idx = (batch.batch == batch_idx)\n",
    "    data = outputs[paper_idx]\n",
    "    print(len(data))\n",
    "\n",
    "    author_node_idx = (batch.x[:, -1] == 0) & paper_idx\n",
    "    candidate_idx = author_node_idx & (batch.x[:, 1 ] == 1)\n",
    "    # not label not known users and node type = user\n",
    "    negative_node_idx = (batch.y == 0) & (~candidate_idx) & (author_node_idx)\n",
    "\n",
    "    negative_embed = outputs[ negative_node_idx ]\n",
    "    candidate_embed = outputs[ candidate_idx ]\n",
    "    target_embed = outputs[ (batch.y==1) & paper_idx]\n",
    "    \n",
    "    latent = candidate_embed.sum(0)\n",
    "    pos = (torch.mm(target_embed, latent.unsqueeze(-1)) - 1)**2\n",
    "    # torch.dot(target_embed[0],  latent)\n",
    "    neg = torch.mm(negative_embed, latent.unsqueeze(-1))**2\n",
    "    N += (len(pos) + len(neg))\n",
    "    acc_loss += pos.sum()+neg.sum()"
   ]
  },
  {
   "cell_type": "code",
   "execution_count": 123,
   "metadata": {},
   "outputs": [],
   "source": [
    "loss = acc_loss / (N*2)"
   ]
  },
  {
   "cell_type": "code",
   "execution_count": 124,
   "metadata": {},
   "outputs": [
    {
     "name": "stdout",
     "output_type": "stream",
     "text": [
      "tensor(4471.3730, grad_fn=<DivBackward0>)\n"
     ]
    }
   ],
   "source": [
    "print(loss)"
   ]
  },
  {
   "cell_type": "code",
   "execution_count": null,
   "metadata": {},
   "outputs": [],
   "source": []
  }
 ],
 "metadata": {
  "kernelspec": {
   "display_name": "Python 3",
   "language": "python",
   "name": "python3"
  },
  "language_info": {
   "codemirror_mode": {
    "name": "ipython",
    "version": 3
   },
   "file_extension": ".py",
   "mimetype": "text/x-python",
   "name": "python",
   "nbconvert_exporter": "python",
   "pygments_lexer": "ipython3",
   "version": "3.6.8"
  }
 },
 "nbformat": 4,
 "nbformat_minor": 4
}
